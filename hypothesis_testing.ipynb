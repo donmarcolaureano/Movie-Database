{
 "cells": [
  {
   "cell_type": "markdown",
   "id": "dcbd9d18-3b78-4f9b-b529-d8edad0798be",
   "metadata": {},
   "source": [
    "# Questions to Answer\n",
    "\n",
    "## - The stakeholder's first question is: does the MPAA rating of a movie (G/PG/PG-13/R) affect how much revenue the movie generates?\n",
    "\n",
    "- They want you to perform a statistical test to get a mathematically-supported answer.\n",
    "- They want you to report if you found a significant difference between ratings.\n",
    "- If so, what was the p-value of your analysis?\n",
    "- And which rating earns the most revenue?\n",
    "- They want you to prepare a visualization that supports your finding.\n",
    "\n",
    "## - It is then up to you to think of 2 additional hypotheses to test that your stakeholder may want to know.\n",
    "\n",
    "    Some example hypotheses you could test:\n",
    "\n",
    "- Do movies that are over 2.5 hours long earn more revenue than movies that are 1.5 hours long (or less)?\n",
    "- Do movies released in 2020 earn less revenue than movies released in 2018?\n",
    "- How do the years compare for movie ratings?\n",
    "- Do some movie genres earn more revenue than others?\n",
    "- Are some genres higher rated than others? etc."
   ]
  },
  {
   "cell_type": "markdown",
   "id": "ab263579-60c8-4e31-84d7-bf21b5783cfb",
   "metadata": {},
   "source": [
    "# imports functions and connection"
   ]
  },
  {
   "cell_type": "code",
   "execution_count": 1,
   "id": "52c467ba-2424-4349-a613-941adf227c4b",
   "metadata": {},
   "outputs": [],
   "source": [
    "# imports\n",
    "import pandas as pd\n",
    "import pymysql\n",
    "import matplotlib.pyplot as plt\n",
    "import seaborn as sns\n",
    "from tqdm.notebook import tqdm_notebook\n",
    "import glob\n",
    "import json, os, time, math\n",
    "import tmdbsimple as tmdb"
   ]
  },
  {
   "cell_type": "code",
   "execution_count": 2,
   "id": "a91f1c0b-c4b2-4ac8-87ff-73895b2ac5cb",
   "metadata": {},
   "outputs": [
    {
     "data": {
      "text/plain": [
       "dict_keys(['client-id', 'api-key'])"
      ]
     },
     "execution_count": 2,
     "metadata": {},
     "output_type": "execute_result"
    }
   ],
   "source": [
    "with open('/Users/marcolaureano2/.secret/tmdb_api.json', 'r') as f:\n",
    "    login = json.load(f)\n",
    "## Display the keys of the loaded dict\n",
    "login.keys()"
   ]
  },
  {
   "cell_type": "code",
   "execution_count": 3,
   "id": "65861279-edf5-4a11-9682-e9c335d91eb0",
   "metadata": {},
   "outputs": [],
   "source": [
    "tmdb.API_KEY =  login['api-key']"
   ]
  },
  {
   "cell_type": "code",
   "execution_count": 4,
   "id": "4d88fc1d-ebce-40ac-8b96-5a83a1b85a58",
   "metadata": {},
   "outputs": [],
   "source": [
    "def get_movie_with_rating(movie_id):\n",
    "    # get the movie object for the current id\n",
    "    movie = tmdb.Movies(movie_id)\n",
    "    \n",
    "    # save the .info .releases dictionaries\n",
    "    info = movie.info()\n",
    "    \n",
    "    releases = movie.releases()\n",
    "    # loop through countries in releases\n",
    "    for c in releases['countries']:\n",
    "        # if the country abbreviation == US\n",
    "        if c['iso_3166_1'] == 'US':\n",
    "            # save a 'certification' key in info with the certification\n",
    "            info['certification'] = c['certification']\n",
    "    return info"
   ]
  },
  {
   "cell_type": "code",
   "execution_count": 5,
   "id": "535783bd-9370-4b1e-b919-110ec891d998",
   "metadata": {},
   "outputs": [],
   "source": [
    "def write_json(new_data, filename): \n",
    "\n",
    "    with open(filename,'r+') as file:\n",
    "        # First we load existing data into a dict.\n",
    "        file_data = json.load(file)\n",
    "        ## Choose extend or append\n",
    "        if (type(new_data) == list) & (type(file_data) == list):\n",
    "            file_data.extend(new_data)\n",
    "        else:\n",
    "             file_data.append(new_data)\n",
    "        # Sets file's current position at offset.\n",
    "        file.seek(0)\n",
    "        # convert back to json.\n",
    "        json.dump(file_data, file)"
   ]
  },
  {
   "cell_type": "code",
   "execution_count": 6,
   "id": "0ce2e470-14f7-4e7c-8c4c-3e6c0de9ace7",
   "metadata": {},
   "outputs": [
    {
     "data": {
      "text/plain": [
       "['IMDB Movie Dataset Info.docx',\n",
       " 'api_resultsfinal_tmdb_data_2001.csv.gz',\n",
       " 'tmdb_results_combined_2002.csv.gz',\n",
       " '.DS_Store',\n",
       " 'tmdb_results_combined_2012.csv.gz',\n",
       " 'tmdb_results_combined_2016.csv.gz',\n",
       " 'tmdb_api_results_2016.json',\n",
       " 'tmdb_api_results_2001.json',\n",
       " 'final_tmdb_data_2002.csv.gz',\n",
       " 'tmdb_results_combined_2014.csv.gz',\n",
       " 'api_resultstmdb_api_results_[2001, 2002].json',\n",
       " 'tmdb_api_results_2002.json',\n",
       " 'tmdb_api_results_[2001, 2002].json',\n",
       " 'tmdb_api_results_2014.json',\n",
       " 'tmdb_api_results_2015.json',\n",
       " 'TitleRatings.tsv',\n",
       " 'tmdb_api_results_2003.json',\n",
       " 'title-akas-us-only.csv',\n",
       " 'tmdb_results_combined_2013.csv.gz',\n",
       " 'filtered_ratings.csv',\n",
       " 'tmdb_results_combined_2001.csv.gz',\n",
       " 'preprocessed_movie_data.csv',\n",
       " 'final_tmdb_data_2001.csv.gz',\n",
       " '.ipynb_checkpoints',\n",
       " 'tmdb_api_results_2012.json',\n",
       " 'TitleBasics.tsv',\n",
       " 'Data',\n",
       " 'tmdb_results_combined_2015.csv.gz',\n",
       " 'tmdb_api_results_2013.json']"
      ]
     },
     "execution_count": 6,
     "metadata": {},
     "output_type": "execute_result"
    }
   ],
   "source": [
    "FOLDER = \"Data/\"\n",
    "os.makedirs(FOLDER, exist_ok=True)\n",
    "os.listdir(FOLDER)"
   ]
  },
  {
   "cell_type": "code",
   "execution_count": 7,
   "id": "8f857bae-636d-4918-b8d8-8c4f7b9a6de7",
   "metadata": {
    "tags": []
   },
   "outputs": [
    {
     "data": {
      "text/html": [
       "<div>\n",
       "<style scoped>\n",
       "    .dataframe tbody tr th:only-of-type {\n",
       "        vertical-align: middle;\n",
       "    }\n",
       "\n",
       "    .dataframe tbody tr th {\n",
       "        vertical-align: top;\n",
       "    }\n",
       "\n",
       "    .dataframe thead th {\n",
       "        text-align: right;\n",
       "    }\n",
       "</style>\n",
       "<table border=\"1\" class=\"dataframe\">\n",
       "  <thead>\n",
       "    <tr style=\"text-align: right;\">\n",
       "      <th></th>\n",
       "      <th>Unnamed: 0</th>\n",
       "      <th>tconst</th>\n",
       "      <th>titleType</th>\n",
       "      <th>primaryTitle</th>\n",
       "      <th>originalTitle</th>\n",
       "      <th>isAdult</th>\n",
       "      <th>startYear</th>\n",
       "      <th>endYear</th>\n",
       "      <th>runtimeMinutes</th>\n",
       "      <th>genres</th>\n",
       "    </tr>\n",
       "  </thead>\n",
       "  <tbody>\n",
       "    <tr>\n",
       "      <th>0</th>\n",
       "      <td>34802</td>\n",
       "      <td>tt0035423</td>\n",
       "      <td>movie</td>\n",
       "      <td>Kate &amp; Leopold</td>\n",
       "      <td>Kate &amp; Leopold</td>\n",
       "      <td>0</td>\n",
       "      <td>2001.0</td>\n",
       "      <td>NaN</td>\n",
       "      <td>118</td>\n",
       "      <td>Comedy,Fantasy,Romance</td>\n",
       "    </tr>\n",
       "    <tr>\n",
       "      <th>1</th>\n",
       "      <td>61114</td>\n",
       "      <td>tt0062336</td>\n",
       "      <td>movie</td>\n",
       "      <td>The Tango of the Widower and Its Distorting Mi...</td>\n",
       "      <td>El tango del viudo y su espejo deformante</td>\n",
       "      <td>0</td>\n",
       "      <td>2020.0</td>\n",
       "      <td>NaN</td>\n",
       "      <td>70</td>\n",
       "      <td>Drama</td>\n",
       "    </tr>\n",
       "    <tr>\n",
       "      <th>2</th>\n",
       "      <td>67666</td>\n",
       "      <td>tt0069049</td>\n",
       "      <td>movie</td>\n",
       "      <td>The Other Side of the Wind</td>\n",
       "      <td>The Other Side of the Wind</td>\n",
       "      <td>0</td>\n",
       "      <td>2018.0</td>\n",
       "      <td>NaN</td>\n",
       "      <td>122</td>\n",
       "      <td>Drama</td>\n",
       "    </tr>\n",
       "    <tr>\n",
       "      <th>3</th>\n",
       "      <td>81515</td>\n",
       "      <td>tt0083324</td>\n",
       "      <td>movie</td>\n",
       "      <td>The White Lions</td>\n",
       "      <td>The White Lions</td>\n",
       "      <td>0</td>\n",
       "      <td>NaN</td>\n",
       "      <td>NaN</td>\n",
       "      <td>97</td>\n",
       "      <td>Drama</td>\n",
       "    </tr>\n",
       "    <tr>\n",
       "      <th>4</th>\n",
       "      <td>86793</td>\n",
       "      <td>tt0088751</td>\n",
       "      <td>movie</td>\n",
       "      <td>The Naked Monster</td>\n",
       "      <td>The Naked Monster</td>\n",
       "      <td>0</td>\n",
       "      <td>2005.0</td>\n",
       "      <td>NaN</td>\n",
       "      <td>100</td>\n",
       "      <td>Comedy,Horror,Sci-Fi</td>\n",
       "    </tr>\n",
       "    <tr>\n",
       "      <th>...</th>\n",
       "      <td>...</td>\n",
       "      <td>...</td>\n",
       "      <td>...</td>\n",
       "      <td>...</td>\n",
       "      <td>...</td>\n",
       "      <td>...</td>\n",
       "      <td>...</td>\n",
       "      <td>...</td>\n",
       "      <td>...</td>\n",
       "      <td>...</td>\n",
       "    </tr>\n",
       "    <tr>\n",
       "      <th>84543</th>\n",
       "      <td>10016225</td>\n",
       "      <td>tt9915130</td>\n",
       "      <td>movie</td>\n",
       "      <td>Meet John Doe</td>\n",
       "      <td>Meet John Doe</td>\n",
       "      <td>0</td>\n",
       "      <td>NaN</td>\n",
       "      <td>NaN</td>\n",
       "      <td>120</td>\n",
       "      <td>NaN</td>\n",
       "    </tr>\n",
       "    <tr>\n",
       "      <th>84544</th>\n",
       "      <td>10016544</td>\n",
       "      <td>tt9915872</td>\n",
       "      <td>movie</td>\n",
       "      <td>The Last White Witch</td>\n",
       "      <td>My Girlfriend is a Wizard</td>\n",
       "      <td>0</td>\n",
       "      <td>2019.0</td>\n",
       "      <td>NaN</td>\n",
       "      <td>97</td>\n",
       "      <td>Comedy,Drama,Fantasy</td>\n",
       "    </tr>\n",
       "    <tr>\n",
       "      <th>84545</th>\n",
       "      <td>10016684</td>\n",
       "      <td>tt9916170</td>\n",
       "      <td>movie</td>\n",
       "      <td>The Rehearsal</td>\n",
       "      <td>O Ensaio</td>\n",
       "      <td>0</td>\n",
       "      <td>2019.0</td>\n",
       "      <td>NaN</td>\n",
       "      <td>51</td>\n",
       "      <td>Drama</td>\n",
       "    </tr>\n",
       "    <tr>\n",
       "      <th>84546</th>\n",
       "      <td>10016693</td>\n",
       "      <td>tt9916190</td>\n",
       "      <td>movie</td>\n",
       "      <td>Safeguard</td>\n",
       "      <td>Safeguard</td>\n",
       "      <td>0</td>\n",
       "      <td>2020.0</td>\n",
       "      <td>NaN</td>\n",
       "      <td>95</td>\n",
       "      <td>Action,Adventure,Thriller</td>\n",
       "    </tr>\n",
       "    <tr>\n",
       "      <th>84547</th>\n",
       "      <td>10016777</td>\n",
       "      <td>tt9916362</td>\n",
       "      <td>movie</td>\n",
       "      <td>Coven</td>\n",
       "      <td>Akelarre</td>\n",
       "      <td>0</td>\n",
       "      <td>2020.0</td>\n",
       "      <td>NaN</td>\n",
       "      <td>92</td>\n",
       "      <td>Drama,History</td>\n",
       "    </tr>\n",
       "  </tbody>\n",
       "</table>\n",
       "<p>84548 rows × 10 columns</p>\n",
       "</div>"
      ],
      "text/plain": [
       "       Unnamed: 0     tconst titleType  \\\n",
       "0           34802  tt0035423     movie   \n",
       "1           61114  tt0062336     movie   \n",
       "2           67666  tt0069049     movie   \n",
       "3           81515  tt0083324     movie   \n",
       "4           86793  tt0088751     movie   \n",
       "...           ...        ...       ...   \n",
       "84543    10016225  tt9915130     movie   \n",
       "84544    10016544  tt9915872     movie   \n",
       "84545    10016684  tt9916170     movie   \n",
       "84546    10016693  tt9916190     movie   \n",
       "84547    10016777  tt9916362     movie   \n",
       "\n",
       "                                            primaryTitle  \\\n",
       "0                                         Kate & Leopold   \n",
       "1      The Tango of the Widower and Its Distorting Mi...   \n",
       "2                             The Other Side of the Wind   \n",
       "3                                        The White Lions   \n",
       "4                                      The Naked Monster   \n",
       "...                                                  ...   \n",
       "84543                                      Meet John Doe   \n",
       "84544                               The Last White Witch   \n",
       "84545                                      The Rehearsal   \n",
       "84546                                          Safeguard   \n",
       "84547                                              Coven   \n",
       "\n",
       "                                   originalTitle  isAdult  startYear  endYear  \\\n",
       "0                                 Kate & Leopold        0     2001.0      NaN   \n",
       "1      El tango del viudo y su espejo deformante        0     2020.0      NaN   \n",
       "2                     The Other Side of the Wind        0     2018.0      NaN   \n",
       "3                                The White Lions        0        NaN      NaN   \n",
       "4                              The Naked Monster        0     2005.0      NaN   \n",
       "...                                          ...      ...        ...      ...   \n",
       "84543                              Meet John Doe        0        NaN      NaN   \n",
       "84544                  My Girlfriend is a Wizard        0     2019.0      NaN   \n",
       "84545                                   O Ensaio        0     2019.0      NaN   \n",
       "84546                                  Safeguard        0     2020.0      NaN   \n",
       "84547                                   Akelarre        0     2020.0      NaN   \n",
       "\n",
       "       runtimeMinutes                     genres  \n",
       "0                 118     Comedy,Fantasy,Romance  \n",
       "1                  70                      Drama  \n",
       "2                 122                      Drama  \n",
       "3                  97                      Drama  \n",
       "4                 100       Comedy,Horror,Sci-Fi  \n",
       "...               ...                        ...  \n",
       "84543             120                        NaN  \n",
       "84544              97       Comedy,Drama,Fantasy  \n",
       "84545              51                      Drama  \n",
       "84546              95  Action,Adventure,Thriller  \n",
       "84547              92              Drama,History  \n",
       "\n",
       "[84548 rows x 10 columns]"
      ]
     },
     "execution_count": 7,
     "metadata": {},
     "output_type": "execute_result"
    }
   ],
   "source": [
    "basics = pd.read_csv('/Users/marcolaureano2/Documents/GitHub/Movie-Database/Data/preprocessed_movie_data.csv')\n",
    "basics"
   ]
  },
  {
   "cell_type": "markdown",
   "id": "9987d151-d749-4251-b9ed-56bc7c0e09f2",
   "metadata": {
    "tags": []
   },
   "source": [
    "# 2012, 2013, 2014"
   ]
  },
  {
   "cell_type": "code",
   "execution_count": 9,
   "id": "f9ac0eac-dba7-4491-bc5c-ac00bf8c4278",
   "metadata": {},
   "outputs": [],
   "source": [
    "YEARS_TO_GET = [2012, 2013, 2014]\n",
    "errors = [ ]"
   ]
  },
  {
   "cell_type": "code",
   "execution_count": 9,
   "id": "fcc0a5dd-565a-4b8d-8679-8aedd025687d",
   "metadata": {},
   "outputs": [
    {
     "data": {
      "application/vnd.jupyter.widget-view+json": {
       "model_id": "503cf35741de493ea5465c3b247d5510",
       "version_major": 2,
       "version_minor": 0
      },
      "text/plain": [
       "YEARS:   0%|          | 0/3 [00:00<?, ?it/s]"
      ]
     },
     "metadata": {},
     "output_type": "display_data"
    },
    {
     "data": {
      "application/vnd.jupyter.widget-view+json": {
       "model_id": "c3c2218592524350a9bb78380d567649",
       "version_major": 2,
       "version_minor": 0
      },
      "text/plain": [
       "Movies from 2012:   0%|          | 0/1246 [00:00<?, ?it/s]"
      ]
     },
     "metadata": {},
     "output_type": "display_data"
    },
    {
     "data": {
      "application/vnd.jupyter.widget-view+json": {
       "model_id": "3d27dadb031549a0ba776fa764fd17b0",
       "version_major": 2,
       "version_minor": 0
      },
      "text/plain": [
       "Movies from 2013:   0%|          | 0/2973 [00:00<?, ?it/s]"
      ]
     },
     "metadata": {},
     "output_type": "display_data"
    },
    {
     "data": {
      "application/vnd.jupyter.widget-view+json": {
       "model_id": "9799b686d1eb496482fe995e31183dc1",
       "version_major": 2,
       "version_minor": 0
      },
      "text/plain": [
       "Movies from 2014:   0%|          | 0/4968 [00:00<?, ?it/s]"
      ]
     },
     "metadata": {},
     "output_type": "display_data"
    }
   ],
   "source": [
    "# OUTER loop\n",
    "for YEAR in tqdm_notebook(YEARS_TO_GET, desc='YEARS', position=0):\n",
    "    #Defining the JSON file to store results for year\n",
    "    JSON_FILE = f'{FOLDER}tmdb_api_results_{YEAR}.json'\n",
    "    file_exists = os.path.isfile(JSON_FILE)\n",
    "    \n",
    "    if file_exists == False:\n",
    "        print(f\"Creating {JSON_FILE} for API results for {YEAR}.\")\n",
    "    # save an empty dict with just \"imdb_id\" to the new json file.\n",
    "        with open(JSON_FILE,'w') as f:\n",
    "            json.dump([{'imdb_id':0}],f)\n",
    "    \n",
    "    df = basics.loc[ basics['startYear'] == YEAR].copy()\n",
    "    movie_ids = df['tconst'].copy()\n",
    "    movie_ids\n",
    "    # Load existing data from json into a dataframe called \"previous_df\"\n",
    "    previous_df = pd.read_json(JSON_FILE)\n",
    "    previous_df\n",
    "    \n",
    "    # filter out any ids that are already in the JSON_FILE\n",
    "    movie_ids_to_get = movie_ids[~movie_ids.isin(previous_df['imdb_id'])]\n",
    "    for movie_id in tqdm_notebook(movie_ids_to_get, f\"Movies from {YEAR}\", position = 1, leave=True):\n",
    "        try:\n",
    "    # Retrieve then data for the movie id\n",
    "            temp = get_movie_with_rating(movie_id)  \n",
    "    # Append/extend results to existing file using a pre-made function\n",
    "            write_json(temp,JSON_FILE)\n",
    "    # Short 20 ms sleep to prevent overwhelming server\n",
    "            time.sleep(0.02)\n",
    "        \n",
    "        except Exception as e:\n",
    "            errors.append([YEARS_TO_GET, e])\n",
    "            continue\n",
    "        \n",
    "    final_year_df = pd.read_json(JSON_FILE)\n",
    "    final_year_df.to_csv(f\"{FOLDER}tmdb_results_combined_{YEAR}.csv.gz\", compression=\"gzip\", index=False)"
   ]
  },
  {
   "cell_type": "markdown",
   "id": "57cd3b04-1b9b-44bb-a710-12a2d154ebd8",
   "metadata": {
    "tags": []
   },
   "source": [
    "# 2015, 2016"
   ]
  },
  {
   "cell_type": "code",
   "execution_count": 10,
   "id": "903c56e2-f709-420e-aa46-d3de38431681",
   "metadata": {},
   "outputs": [],
   "source": [
    "YEARS_TO_GET = [2015, 2016]"
   ]
  },
  {
   "cell_type": "code",
   "execution_count": 29,
   "id": "1232abbe-25bf-4251-9402-21fbbd706372",
   "metadata": {},
   "outputs": [
    {
     "data": {
      "application/vnd.jupyter.widget-view+json": {
       "model_id": "808bd99b62ea49cc9a7672e395623cb3",
       "version_major": 2,
       "version_minor": 0
      },
      "text/plain": [
       "YEARS:   0%|          | 0/2 [00:00<?, ?it/s]"
      ]
     },
     "metadata": {},
     "output_type": "display_data"
    },
    {
     "data": {
      "application/vnd.jupyter.widget-view+json": {
       "model_id": "c67d45ef321d4164ae54c11b438f6afd",
       "version_major": 2,
       "version_minor": 0
      },
      "text/plain": [
       "Movies from 2015:   0%|          | 0/1239 [00:00<?, ?it/s]"
      ]
     },
     "metadata": {},
     "output_type": "display_data"
    },
    {
     "data": {
      "application/vnd.jupyter.widget-view+json": {
       "model_id": "b81cbba42679407ca2512d460d90ea06",
       "version_major": 2,
       "version_minor": 0
      },
      "text/plain": [
       "Movies from 2016:   0%|          | 0/1211 [00:00<?, ?it/s]"
      ]
     },
     "metadata": {},
     "output_type": "display_data"
    }
   ],
   "source": [
    "# OUTER loop\n",
    "for YEAR in tqdm_notebook(YEARS_TO_GET, desc='YEARS', position=0):\n",
    "    #Defining the JSON file to store results for year\n",
    "    JSON_FILE = f'{FOLDER}tmdb_api_results_{YEAR}.json'\n",
    "    file_exists = os.path.isfile(JSON_FILE)\n",
    "    \n",
    "    if file_exists == False:\n",
    "        print(f\"Creating {JSON_FILE} for API results for {YEAR}.\")\n",
    "    # save an empty dict with just \"imdb_id\" to the new json file.\n",
    "        with open(JSON_FILE,'w') as f:\n",
    "            json.dump([{'imdb_id':0}],f)\n",
    "    \n",
    "    df = basics.loc[ basics['startYear'] == YEAR].copy()\n",
    "    movie_ids = df['tconst'].copy()\n",
    "    movie_ids\n",
    "    # Load existing data from json into a dataframe called \"previous_df\"\n",
    "    previous_df = pd.read_json(JSON_FILE)\n",
    "    previous_df\n",
    "    \n",
    "    # filter out any ids that are already in the JSON_FILE\n",
    "    movie_ids_to_get = movie_ids[~movie_ids.isin(previous_df['imdb_id'])]\n",
    "    for movie_id in tqdm_notebook(movie_ids_to_get, f\"Movies from {YEAR}\", position = 1, leave=True):\n",
    "        try:\n",
    "    # Retrieve then data for the movie id\n",
    "            temp = get_movie_with_rating(movie_id)  \n",
    "    # Append/extend results to existing file using a pre-made function\n",
    "            write_json(temp,JSON_FILE)\n",
    "    # Short 20 ms sleep to prevent overwhelming server\n",
    "            time.sleep(0.02)\n",
    "        \n",
    "        except Exception as e:\n",
    "            errors.append([YEARS_TO_GET, e])\n",
    "            continue\n",
    "        \n",
    "    final_year_df = pd.read_json(JSON_FILE)\n",
    "    final_year_df.to_csv(f\"{FOLDER}tmdb_results_combined_{YEAR}.csv.gz\", compression=\"gzip\", index=False)"
   ]
  },
  {
   "cell_type": "markdown",
   "id": "f931fe54-30f8-4dae-a37f-1193c8ea2e8e",
   "metadata": {},
   "source": [
    "# glob"
   ]
  },
  {
   "cell_type": "code",
   "execution_count": 35,
   "id": "c6195332-a2ea-406c-9909-c5f955214c11",
   "metadata": {
    "tags": []
   },
   "outputs": [
    {
     "data": {
      "text/html": [
       "<div>\n",
       "<style scoped>\n",
       "    .dataframe tbody tr th:only-of-type {\n",
       "        vertical-align: middle;\n",
       "    }\n",
       "\n",
       "    .dataframe tbody tr th {\n",
       "        vertical-align: top;\n",
       "    }\n",
       "\n",
       "    .dataframe thead th {\n",
       "        text-align: right;\n",
       "    }\n",
       "</style>\n",
       "<table border=\"1\" class=\"dataframe\">\n",
       "  <thead>\n",
       "    <tr style=\"text-align: right;\">\n",
       "      <th></th>\n",
       "      <th>imdb_id</th>\n",
       "      <th>adult</th>\n",
       "      <th>backdrop_path</th>\n",
       "      <th>belongs_to_collection</th>\n",
       "      <th>budget</th>\n",
       "      <th>genres</th>\n",
       "      <th>homepage</th>\n",
       "      <th>id</th>\n",
       "      <th>original_language</th>\n",
       "      <th>original_title</th>\n",
       "      <th>...</th>\n",
       "      <th>revenue</th>\n",
       "      <th>runtime</th>\n",
       "      <th>spoken_languages</th>\n",
       "      <th>status</th>\n",
       "      <th>tagline</th>\n",
       "      <th>title</th>\n",
       "      <th>video</th>\n",
       "      <th>vote_average</th>\n",
       "      <th>vote_count</th>\n",
       "      <th>certification</th>\n",
       "    </tr>\n",
       "  </thead>\n",
       "  <tbody>\n",
       "    <tr>\n",
       "      <th>0</th>\n",
       "      <td>0</td>\n",
       "      <td>NaN</td>\n",
       "      <td>NaN</td>\n",
       "      <td>NaN</td>\n",
       "      <td>NaN</td>\n",
       "      <td>NaN</td>\n",
       "      <td>NaN</td>\n",
       "      <td>NaN</td>\n",
       "      <td>NaN</td>\n",
       "      <td>NaN</td>\n",
       "      <td>...</td>\n",
       "      <td>NaN</td>\n",
       "      <td>NaN</td>\n",
       "      <td>NaN</td>\n",
       "      <td>NaN</td>\n",
       "      <td>NaN</td>\n",
       "      <td>NaN</td>\n",
       "      <td>NaN</td>\n",
       "      <td>NaN</td>\n",
       "      <td>NaN</td>\n",
       "      <td>NaN</td>\n",
       "    </tr>\n",
       "    <tr>\n",
       "      <th>1</th>\n",
       "      <td>tt0315642</td>\n",
       "      <td>0.0</td>\n",
       "      <td>/lD6lYulY6js9EAgUufh2ekNnCR4.jpg</td>\n",
       "      <td>None</td>\n",
       "      <td>5200000.0</td>\n",
       "      <td>[{'id': 53, 'name': 'Thriller'}, {'id': 28, 'n...</td>\n",
       "      <td></td>\n",
       "      <td>275269.0</td>\n",
       "      <td>hi</td>\n",
       "      <td>वज़ीर</td>\n",
       "      <td>...</td>\n",
       "      <td>9200000.0</td>\n",
       "      <td>103.0</td>\n",
       "      <td>[{'english_name': 'Hindi', 'iso_639_1': 'hi', ...</td>\n",
       "      <td>Released</td>\n",
       "      <td>This new year make your best move</td>\n",
       "      <td>Wazir</td>\n",
       "      <td>0.0</td>\n",
       "      <td>6.627</td>\n",
       "      <td>110.0</td>\n",
       "      <td>PG-13</td>\n",
       "    </tr>\n",
       "    <tr>\n",
       "      <th>2</th>\n",
       "      <td>tt0376479</td>\n",
       "      <td>0.0</td>\n",
       "      <td>/fDxdfM4Qj2Qhc6EZYPyB3k4xatw.jpg</td>\n",
       "      <td>None</td>\n",
       "      <td>0.0</td>\n",
       "      <td>[{'id': 80, 'name': 'Crime'}, {'id': 18, 'name...</td>\n",
       "      <td>http://www.americanpastoral.movie/</td>\n",
       "      <td>326285.0</td>\n",
       "      <td>en</td>\n",
       "      <td>American Pastoral</td>\n",
       "      <td>...</td>\n",
       "      <td>0.0</td>\n",
       "      <td>108.0</td>\n",
       "      <td>[{'english_name': 'English', 'iso_639_1': 'en'...</td>\n",
       "      <td>Released</td>\n",
       "      <td>A radically ordinary story.</td>\n",
       "      <td>American Pastoral</td>\n",
       "      <td>0.0</td>\n",
       "      <td>6.149</td>\n",
       "      <td>638.0</td>\n",
       "      <td>R</td>\n",
       "    </tr>\n",
       "    <tr>\n",
       "      <th>3</th>\n",
       "      <td>tt0443533</td>\n",
       "      <td>0.0</td>\n",
       "      <td>/iU9ij6jSQOJDPFnqBUPzEY2eOs6.jpg</td>\n",
       "      <td>None</td>\n",
       "      <td>20000000.0</td>\n",
       "      <td>[{'id': 18, 'name': 'Drama'}, {'id': 10749, 'n...</td>\n",
       "      <td></td>\n",
       "      <td>410366.0</td>\n",
       "      <td>en</td>\n",
       "      <td>The History of Love</td>\n",
       "      <td>...</td>\n",
       "      <td>0.0</td>\n",
       "      <td>134.0</td>\n",
       "      <td>[{'english_name': 'English', 'iso_639_1': 'en'...</td>\n",
       "      <td>Released</td>\n",
       "      <td></td>\n",
       "      <td>The History of Love</td>\n",
       "      <td>0.0</td>\n",
       "      <td>6.471</td>\n",
       "      <td>86.0</td>\n",
       "      <td>NaN</td>\n",
       "    </tr>\n",
       "    <tr>\n",
       "      <th>4</th>\n",
       "      <td>tt0470936</td>\n",
       "      <td>0.0</td>\n",
       "      <td>None</td>\n",
       "      <td>None</td>\n",
       "      <td>0.0</td>\n",
       "      <td>[]</td>\n",
       "      <td></td>\n",
       "      <td>532608.0</td>\n",
       "      <td>hy</td>\n",
       "      <td>Tak erkir, tsurt dzmer</td>\n",
       "      <td>...</td>\n",
       "      <td>0.0</td>\n",
       "      <td>104.0</td>\n",
       "      <td>[{'english_name': 'Armenian', 'iso_639_1': 'hy...</td>\n",
       "      <td>Released</td>\n",
       "      <td></td>\n",
       "      <td>Hot Country, Cold Winter</td>\n",
       "      <td>0.0</td>\n",
       "      <td>0.000</td>\n",
       "      <td>0.0</td>\n",
       "      <td>NaN</td>\n",
       "    </tr>\n",
       "    <tr>\n",
       "      <th>...</th>\n",
       "      <td>...</td>\n",
       "      <td>...</td>\n",
       "      <td>...</td>\n",
       "      <td>...</td>\n",
       "      <td>...</td>\n",
       "      <td>...</td>\n",
       "      <td>...</td>\n",
       "      <td>...</td>\n",
       "      <td>...</td>\n",
       "      <td>...</td>\n",
       "      <td>...</td>\n",
       "      <td>...</td>\n",
       "      <td>...</td>\n",
       "      <td>...</td>\n",
       "      <td>...</td>\n",
       "      <td>...</td>\n",
       "      <td>...</td>\n",
       "      <td>...</td>\n",
       "      <td>...</td>\n",
       "      <td>...</td>\n",
       "      <td>...</td>\n",
       "    </tr>\n",
       "    <tr>\n",
       "      <th>4111</th>\n",
       "      <td>tt9434008</td>\n",
       "      <td>0.0</td>\n",
       "      <td>None</td>\n",
       "      <td>None</td>\n",
       "      <td>0.0</td>\n",
       "      <td>[{'id': 53, 'name': 'Thriller'}, {'id': 27, 'n...</td>\n",
       "      <td></td>\n",
       "      <td>398655.0</td>\n",
       "      <td>zh</td>\n",
       "      <td>荒村怨灵</td>\n",
       "      <td>...</td>\n",
       "      <td>0.0</td>\n",
       "      <td>90.0</td>\n",
       "      <td>[{'english_name': 'Mandarin', 'iso_639_1': 'zh...</td>\n",
       "      <td>Released</td>\n",
       "      <td></td>\n",
       "      <td>Strange Battle</td>\n",
       "      <td>0.0</td>\n",
       "      <td>0.000</td>\n",
       "      <td>0.0</td>\n",
       "      <td>NaN</td>\n",
       "    </tr>\n",
       "    <tr>\n",
       "      <th>4112</th>\n",
       "      <td>tt9547878</td>\n",
       "      <td>0.0</td>\n",
       "      <td>None</td>\n",
       "      <td>None</td>\n",
       "      <td>0.0</td>\n",
       "      <td>[{'id': 18, 'name': 'Drama'}, {'id': 35, 'name...</td>\n",
       "      <td></td>\n",
       "      <td>914301.0</td>\n",
       "      <td>zh</td>\n",
       "      <td>Hi高考君</td>\n",
       "      <td>...</td>\n",
       "      <td>0.0</td>\n",
       "      <td>0.0</td>\n",
       "      <td>[{'english_name': 'Mandarin', 'iso_639_1': 'zh...</td>\n",
       "      <td>Released</td>\n",
       "      <td></td>\n",
       "      <td>Hi高考君</td>\n",
       "      <td>0.0</td>\n",
       "      <td>0.000</td>\n",
       "      <td>0.0</td>\n",
       "      <td>NaN</td>\n",
       "    </tr>\n",
       "    <tr>\n",
       "      <th>4113</th>\n",
       "      <td>tt9741588</td>\n",
       "      <td>0.0</td>\n",
       "      <td>/f2HAgJuweEdeQJi4Mzshu6WxRPD.jpg</td>\n",
       "      <td>None</td>\n",
       "      <td>0.0</td>\n",
       "      <td>[{'id': 18, 'name': 'Drama'}, {'id': 10749, 'n...</td>\n",
       "      <td></td>\n",
       "      <td>475943.0</td>\n",
       "      <td>en</td>\n",
       "      <td>Couple of Days</td>\n",
       "      <td>...</td>\n",
       "      <td>0.0</td>\n",
       "      <td>103.0</td>\n",
       "      <td>[{'english_name': 'English', 'iso_639_1': 'en'...</td>\n",
       "      <td>Released</td>\n",
       "      <td></td>\n",
       "      <td>Couple of Days</td>\n",
       "      <td>0.0</td>\n",
       "      <td>3.000</td>\n",
       "      <td>2.0</td>\n",
       "      <td>NaN</td>\n",
       "    </tr>\n",
       "    <tr>\n",
       "      <th>4114</th>\n",
       "      <td>tt9753312</td>\n",
       "      <td>0.0</td>\n",
       "      <td>/ifhAWtypQ7RBNYKxU674WTdSaio.jpg</td>\n",
       "      <td>None</td>\n",
       "      <td>0.0</td>\n",
       "      <td>[]</td>\n",
       "      <td></td>\n",
       "      <td>417568.0</td>\n",
       "      <td>pt</td>\n",
       "      <td>O que seria deste mundo sem paixão?</td>\n",
       "      <td>...</td>\n",
       "      <td>0.0</td>\n",
       "      <td>72.0</td>\n",
       "      <td>[]</td>\n",
       "      <td>Released</td>\n",
       "      <td></td>\n",
       "      <td>What of This World Without Passion?</td>\n",
       "      <td>0.0</td>\n",
       "      <td>5.000</td>\n",
       "      <td>1.0</td>\n",
       "      <td>NaN</td>\n",
       "    </tr>\n",
       "    <tr>\n",
       "      <th>4115</th>\n",
       "      <td>tt9894668</td>\n",
       "      <td>0.0</td>\n",
       "      <td>None</td>\n",
       "      <td>None</td>\n",
       "      <td>0.0</td>\n",
       "      <td>[]</td>\n",
       "      <td></td>\n",
       "      <td>427126.0</td>\n",
       "      <td>es</td>\n",
       "      <td>IKEA2</td>\n",
       "      <td>...</td>\n",
       "      <td>0.0</td>\n",
       "      <td>0.0</td>\n",
       "      <td>[{'english_name': 'Spanish', 'iso_639_1': 'es'...</td>\n",
       "      <td>Released</td>\n",
       "      <td>60</td>\n",
       "      <td>IKEA2</td>\n",
       "      <td>0.0</td>\n",
       "      <td>5.200</td>\n",
       "      <td>5.0</td>\n",
       "      <td>NaN</td>\n",
       "    </tr>\n",
       "  </tbody>\n",
       "</table>\n",
       "<p>4116 rows × 26 columns</p>\n",
       "</div>"
      ],
      "text/plain": [
       "        imdb_id  adult                     backdrop_path  \\\n",
       "0             0    NaN                               NaN   \n",
       "1     tt0315642    0.0  /lD6lYulY6js9EAgUufh2ekNnCR4.jpg   \n",
       "2     tt0376479    0.0  /fDxdfM4Qj2Qhc6EZYPyB3k4xatw.jpg   \n",
       "3     tt0443533    0.0  /iU9ij6jSQOJDPFnqBUPzEY2eOs6.jpg   \n",
       "4     tt0470936    0.0                              None   \n",
       "...         ...    ...                               ...   \n",
       "4111  tt9434008    0.0                              None   \n",
       "4112  tt9547878    0.0                              None   \n",
       "4113  tt9741588    0.0  /f2HAgJuweEdeQJi4Mzshu6WxRPD.jpg   \n",
       "4114  tt9753312    0.0  /ifhAWtypQ7RBNYKxU674WTdSaio.jpg   \n",
       "4115  tt9894668    0.0                              None   \n",
       "\n",
       "     belongs_to_collection      budget  \\\n",
       "0                      NaN         NaN   \n",
       "1                     None   5200000.0   \n",
       "2                     None         0.0   \n",
       "3                     None  20000000.0   \n",
       "4                     None         0.0   \n",
       "...                    ...         ...   \n",
       "4111                  None         0.0   \n",
       "4112                  None         0.0   \n",
       "4113                  None         0.0   \n",
       "4114                  None         0.0   \n",
       "4115                  None         0.0   \n",
       "\n",
       "                                                 genres  \\\n",
       "0                                                   NaN   \n",
       "1     [{'id': 53, 'name': 'Thriller'}, {'id': 28, 'n...   \n",
       "2     [{'id': 80, 'name': 'Crime'}, {'id': 18, 'name...   \n",
       "3     [{'id': 18, 'name': 'Drama'}, {'id': 10749, 'n...   \n",
       "4                                                    []   \n",
       "...                                                 ...   \n",
       "4111  [{'id': 53, 'name': 'Thriller'}, {'id': 27, 'n...   \n",
       "4112  [{'id': 18, 'name': 'Drama'}, {'id': 35, 'name...   \n",
       "4113  [{'id': 18, 'name': 'Drama'}, {'id': 10749, 'n...   \n",
       "4114                                                 []   \n",
       "4115                                                 []   \n",
       "\n",
       "                                homepage        id original_language  \\\n",
       "0                                    NaN       NaN               NaN   \n",
       "1                                         275269.0                hi   \n",
       "2     http://www.americanpastoral.movie/  326285.0                en   \n",
       "3                                         410366.0                en   \n",
       "4                                         532608.0                hy   \n",
       "...                                  ...       ...               ...   \n",
       "4111                                      398655.0                zh   \n",
       "4112                                      914301.0                zh   \n",
       "4113                                      475943.0                en   \n",
       "4114                                      417568.0                pt   \n",
       "4115                                      427126.0                es   \n",
       "\n",
       "                           original_title  ...    revenue  runtime  \\\n",
       "0                                     NaN  ...        NaN      NaN   \n",
       "1                                   वज़ीर  ...  9200000.0    103.0   \n",
       "2                       American Pastoral  ...        0.0    108.0   \n",
       "3                     The History of Love  ...        0.0    134.0   \n",
       "4                  Tak erkir, tsurt dzmer  ...        0.0    104.0   \n",
       "...                                   ...  ...        ...      ...   \n",
       "4111                                 荒村怨灵  ...        0.0     90.0   \n",
       "4112                                Hi高考君  ...        0.0      0.0   \n",
       "4113                       Couple of Days  ...        0.0    103.0   \n",
       "4114  O que seria deste mundo sem paixão?  ...        0.0     72.0   \n",
       "4115                                IKEA2  ...        0.0      0.0   \n",
       "\n",
       "                                       spoken_languages    status  \\\n",
       "0                                                   NaN       NaN   \n",
       "1     [{'english_name': 'Hindi', 'iso_639_1': 'hi', ...  Released   \n",
       "2     [{'english_name': 'English', 'iso_639_1': 'en'...  Released   \n",
       "3     [{'english_name': 'English', 'iso_639_1': 'en'...  Released   \n",
       "4     [{'english_name': 'Armenian', 'iso_639_1': 'hy...  Released   \n",
       "...                                                 ...       ...   \n",
       "4111  [{'english_name': 'Mandarin', 'iso_639_1': 'zh...  Released   \n",
       "4112  [{'english_name': 'Mandarin', 'iso_639_1': 'zh...  Released   \n",
       "4113  [{'english_name': 'English', 'iso_639_1': 'en'...  Released   \n",
       "4114                                                 []  Released   \n",
       "4115  [{'english_name': 'Spanish', 'iso_639_1': 'es'...  Released   \n",
       "\n",
       "                                tagline                                title  \\\n",
       "0                                   NaN                                  NaN   \n",
       "1     This new year make your best move                                Wazir   \n",
       "2           A radically ordinary story.                    American Pastoral   \n",
       "3                                                        The History of Love   \n",
       "4                                                   Hot Country, Cold Winter   \n",
       "...                                 ...                                  ...   \n",
       "4111                                                          Strange Battle   \n",
       "4112                                                                   Hi高考君   \n",
       "4113                                                          Couple of Days   \n",
       "4114                                     What of This World Without Passion?   \n",
       "4115                                 60                                IKEA2   \n",
       "\n",
       "      video  vote_average vote_count certification  \n",
       "0       NaN           NaN        NaN           NaN  \n",
       "1       0.0         6.627      110.0         PG-13  \n",
       "2       0.0         6.149      638.0             R  \n",
       "3       0.0         6.471       86.0           NaN  \n",
       "4       0.0         0.000        0.0           NaN  \n",
       "...     ...           ...        ...           ...  \n",
       "4111    0.0         0.000        0.0           NaN  \n",
       "4112    0.0         0.000        0.0           NaN  \n",
       "4113    0.0         3.000        2.0           NaN  \n",
       "4114    0.0         5.000        1.0           NaN  \n",
       "4115    0.0         5.200        5.0           NaN  \n",
       "\n",
       "[4116 rows x 26 columns]"
      ]
     },
     "execution_count": 35,
     "metadata": {},
     "output_type": "execute_result"
    }
   ],
   "source": [
    "final_year_df"
   ]
  },
  {
   "cell_type": "code",
   "execution_count": 30,
   "id": "9c3f747f-b44d-4653-9d5e-bc8a21a57e46",
   "metadata": {},
   "outputs": [
    {
     "name": "stdout",
     "output_type": "stream",
     "text": [
      "- Total errors: 2450\n"
     ]
    }
   ],
   "source": [
    "print(f\"- Total errors: {len(errors)}\")"
   ]
  },
  {
   "cell_type": "code",
   "execution_count": 40,
   "id": "c46cf01c-69dc-4d78-9e6d-3d3508c5d401",
   "metadata": {
    "tags": []
   },
   "outputs": [
    {
     "data": {
      "text/plain": [
       "['Data/tmdb_api_results_2000.json',\n",
       " 'Data/tmdb_api_results_2001.json',\n",
       " 'Data/tmdb_api_results_2002.json',\n",
       " 'Data/tmdb_api_results_2003.json',\n",
       " 'Data/tmdb_api_results_2004.json',\n",
       " 'Data/tmdb_api_results_2005.json',\n",
       " 'Data/tmdb_api_results_2006.json',\n",
       " 'Data/tmdb_api_results_2007.json',\n",
       " 'Data/tmdb_api_results_2008.json',\n",
       " 'Data/tmdb_api_results_2009.json',\n",
       " 'Data/tmdb_api_results_2010.json',\n",
       " 'Data/tmdb_api_results_2011.json',\n",
       " 'Data/tmdb_api_results_2012.json',\n",
       " 'Data/tmdb_api_results_2013.json',\n",
       " 'Data/tmdb_api_results_2014.json',\n",
       " 'Data/tmdb_api_results_2015.json',\n",
       " 'Data/tmdb_api_results_2016.json',\n",
       " 'Data/tmdb_api_results_2017.json',\n",
       " 'Data/tmdb_api_results_2018.json',\n",
       " 'Data/tmdb_api_results_2019.json',\n",
       " 'Data/tmdb_api_results_2020.json',\n",
       " 'Data/tmdb_api_results_2021.json',\n",
       " 'Data/tmdb_api_results_2022.json']"
      ]
     },
     "execution_count": 40,
     "metadata": {},
     "output_type": "execute_result"
    }
   ],
   "source": [
    "import glob\n",
    "# Use glob to get all filepaths that match the pattern (*=wildcard)\n",
    "tmdb_calls = sorted(glob.glob(\"Data/tmdb_api_results*.json\"))\n",
    "tmdb_calls"
   ]
  },
  {
   "cell_type": "code",
   "execution_count": null,
   "id": "803a9abf-bd20-400a-9d33-db348a66be6e",
   "metadata": {},
   "outputs": [],
   "source": []
  },
  {
   "cell_type": "code",
   "execution_count": null,
   "id": "11ff4e0c-2545-46a9-86a8-ae3a6bfb194c",
   "metadata": {},
   "outputs": [],
   "source": []
  },
  {
   "cell_type": "code",
   "execution_count": null,
   "id": "08512b53-af04-4b53-a5fc-91640297a87a",
   "metadata": {},
   "outputs": [],
   "source": []
  },
  {
   "cell_type": "code",
   "execution_count": null,
   "id": "070e2901-87db-4856-80d1-c9275eedd040",
   "metadata": {
    "tags": []
   },
   "outputs": [],
   "source": [
    "tmdb_files = pd.concat([pd.read_csv(f) for f in tmdb_files])"
   ]
  },
  {
   "cell_type": "code",
   "execution_count": null,
   "id": "ba4c5ebe-b99d-46cd-b9f8-87a0e4a50ed5",
   "metadata": {},
   "outputs": [],
   "source": []
  }
 ],
 "metadata": {
  "kernelspec": {
   "display_name": "Python (dojo-env)",
   "language": "python",
   "name": "dojo-env"
  },
  "language_info": {
   "codemirror_mode": {
    "name": "ipython",
    "version": 3
   },
   "file_extension": ".py",
   "mimetype": "text/x-python",
   "name": "python",
   "nbconvert_exporter": "python",
   "pygments_lexer": "ipython3",
   "version": "3.10.10"
  },
  "widgets": {
   "application/vnd.jupyter.widget-state+json": {
    "state": {
     "006513c7a77c4734b048482899e8d2c3": {
      "model_module": "@jupyter-widgets/controls",
      "model_module_version": "2.0.0",
      "model_name": "HTMLModel",
      "state": {
       "layout": "IPY_MODEL_fe0fffb774304df2ae1f14d353ff7157",
       "style": "IPY_MODEL_a1be62648fb64f83b557e8be6cabc68e",
       "value": "Movies from 2015: 100%"
      }
     },
     "0318ba01ccda4493bb57af4b187495ec": {
      "model_module": "@jupyter-widgets/base",
      "model_module_version": "2.0.0",
      "model_name": "LayoutModel",
      "state": {}
     },
     "059a094b1fcc457bb346d12ee30243c6": {
      "model_module": "@jupyter-widgets/controls",
      "model_module_version": "2.0.0",
      "model_name": "HTMLStyleModel",
      "state": {
       "description_width": "",
       "font_size": null,
       "text_color": null
      }
     },
     "109682e231c243c49fac233823a132c8": {
      "model_module": "@jupyter-widgets/controls",
      "model_module_version": "2.0.0",
      "model_name": "HTMLModel",
      "state": {
       "layout": "IPY_MODEL_0318ba01ccda4493bb57af4b187495ec",
       "style": "IPY_MODEL_47ca8961531442429e67671d87f0cec7",
       "value": "YEARS: 100%"
      }
     },
     "16946799eb2b48d1a4e3d0e7d3ab2e7b": {
      "model_module": "@jupyter-widgets/base",
      "model_module_version": "2.0.0",
      "model_name": "LayoutModel",
      "state": {}
     },
     "1bc2b032c5444ec3a1cbeab7144ffab8": {
      "model_module": "@jupyter-widgets/base",
      "model_module_version": "2.0.0",
      "model_name": "LayoutModel",
      "state": {}
     },
     "1c2c7f79c408443394f17da186a7574b": {
      "model_module": "@jupyter-widgets/controls",
      "model_module_version": "2.0.0",
      "model_name": "HTMLModel",
      "state": {
       "layout": "IPY_MODEL_3cd4b613de14489da14851856e3087a4",
       "style": "IPY_MODEL_d96e9cb7a990415bb00f7dc6d343fcb9",
       "value": "Movies from 2016: 100%"
      }
     },
     "1ecb9c1ac6f14fc9a0757510c432546a": {
      "model_module": "@jupyter-widgets/base",
      "model_module_version": "2.0.0",
      "model_name": "LayoutModel",
      "state": {}
     },
     "27c45d33c54643aea6721d6f4d1f2f2d": {
      "model_module": "@jupyter-widgets/controls",
      "model_module_version": "2.0.0",
      "model_name": "ProgressStyleModel",
      "state": {
       "description_width": ""
      }
     },
     "310b825639934a6aa1854734fb08eb17": {
      "model_module": "@jupyter-widgets/controls",
      "model_module_version": "2.0.0",
      "model_name": "HTMLModel",
      "state": {
       "layout": "IPY_MODEL_a9d8845f69df4a06ba72b2bda306953c",
       "style": "IPY_MODEL_32ec7868bbd9432687b7f04e1e4726fa",
       "value": " 1211/1211 [03:54&lt;00:00,  5.44it/s]"
      }
     },
     "32ec7868bbd9432687b7f04e1e4726fa": {
      "model_module": "@jupyter-widgets/controls",
      "model_module_version": "2.0.0",
      "model_name": "HTMLStyleModel",
      "state": {
       "description_width": "",
       "font_size": null,
       "text_color": null
      }
     },
     "3cd4b613de14489da14851856e3087a4": {
      "model_module": "@jupyter-widgets/base",
      "model_module_version": "2.0.0",
      "model_name": "LayoutModel",
      "state": {}
     },
     "47ca8961531442429e67671d87f0cec7": {
      "model_module": "@jupyter-widgets/controls",
      "model_module_version": "2.0.0",
      "model_name": "HTMLStyleModel",
      "state": {
       "description_width": "",
       "font_size": null,
       "text_color": null
      }
     },
     "7d82047c4dc24f388975d0bc4117b471": {
      "model_module": "@jupyter-widgets/base",
      "model_module_version": "2.0.0",
      "model_name": "LayoutModel",
      "state": {}
     },
     "808bd99b62ea49cc9a7672e395623cb3": {
      "model_module": "@jupyter-widgets/controls",
      "model_module_version": "2.0.0",
      "model_name": "HBoxModel",
      "state": {
       "children": [
        "IPY_MODEL_109682e231c243c49fac233823a132c8",
        "IPY_MODEL_eea41246a0904d45aff2f6628ad4d208",
        "IPY_MODEL_a156a91ee6e048878e682a005150da76"
       ],
       "layout": "IPY_MODEL_8654092247254d358589a7f1c5b04205"
      }
     },
     "8654092247254d358589a7f1c5b04205": {
      "model_module": "@jupyter-widgets/base",
      "model_module_version": "2.0.0",
      "model_name": "LayoutModel",
      "state": {}
     },
     "874e4932909240bf9ec36ccf567086c7": {
      "model_module": "@jupyter-widgets/controls",
      "model_module_version": "2.0.0",
      "model_name": "FloatProgressModel",
      "state": {
       "bar_style": "success",
       "layout": "IPY_MODEL_d938e2a5fd0c4d708bdd23a6eb23ad72",
       "max": 1211,
       "style": "IPY_MODEL_dcab89e375514814b66777a468e4c8f6",
       "value": 1211
      }
     },
     "993471884f2e4b50932fca4afea57cca": {
      "model_module": "@jupyter-widgets/base",
      "model_module_version": "2.0.0",
      "model_name": "LayoutModel",
      "state": {}
     },
     "a156a91ee6e048878e682a005150da76": {
      "model_module": "@jupyter-widgets/controls",
      "model_module_version": "2.0.0",
      "model_name": "HTMLModel",
      "state": {
       "layout": "IPY_MODEL_7d82047c4dc24f388975d0bc4117b471",
       "style": "IPY_MODEL_b340576a2b8444e79a3a3cc04190d2a0",
       "value": " 2/2 [07:54&lt;00:00, 237.10s/it]"
      }
     },
     "a1be62648fb64f83b557e8be6cabc68e": {
      "model_module": "@jupyter-widgets/controls",
      "model_module_version": "2.0.0",
      "model_name": "HTMLStyleModel",
      "state": {
       "description_width": "",
       "font_size": null,
       "text_color": null
      }
     },
     "a9d8845f69df4a06ba72b2bda306953c": {
      "model_module": "@jupyter-widgets/base",
      "model_module_version": "2.0.0",
      "model_name": "LayoutModel",
      "state": {}
     },
     "b240a20999594235b70a7bb77da7bb14": {
      "model_module": "@jupyter-widgets/controls",
      "model_module_version": "2.0.0",
      "model_name": "FloatProgressModel",
      "state": {
       "bar_style": "success",
       "layout": "IPY_MODEL_993471884f2e4b50932fca4afea57cca",
       "max": 1239,
       "style": "IPY_MODEL_f3239ab5ddf147c19426563f690d940b",
       "value": 1239
      }
     },
     "b340576a2b8444e79a3a3cc04190d2a0": {
      "model_module": "@jupyter-widgets/controls",
      "model_module_version": "2.0.0",
      "model_name": "HTMLStyleModel",
      "state": {
       "description_width": "",
       "font_size": null,
       "text_color": null
      }
     },
     "b81cbba42679407ca2512d460d90ea06": {
      "model_module": "@jupyter-widgets/controls",
      "model_module_version": "2.0.0",
      "model_name": "HBoxModel",
      "state": {
       "children": [
        "IPY_MODEL_1c2c7f79c408443394f17da186a7574b",
        "IPY_MODEL_874e4932909240bf9ec36ccf567086c7",
        "IPY_MODEL_310b825639934a6aa1854734fb08eb17"
       ],
       "layout": "IPY_MODEL_dc6efb4a586b46e78e9516db4368eca0"
      }
     },
     "c67d45ef321d4164ae54c11b438f6afd": {
      "model_module": "@jupyter-widgets/controls",
      "model_module_version": "2.0.0",
      "model_name": "HBoxModel",
      "state": {
       "children": [
        "IPY_MODEL_006513c7a77c4734b048482899e8d2c3",
        "IPY_MODEL_b240a20999594235b70a7bb77da7bb14",
        "IPY_MODEL_d30ada5e2be5431596d55e2ef761e7cb"
       ],
       "layout": "IPY_MODEL_16946799eb2b48d1a4e3d0e7d3ab2e7b"
      }
     },
     "d30ada5e2be5431596d55e2ef761e7cb": {
      "model_module": "@jupyter-widgets/controls",
      "model_module_version": "2.0.0",
      "model_name": "HTMLModel",
      "state": {
       "layout": "IPY_MODEL_1bc2b032c5444ec3a1cbeab7144ffab8",
       "style": "IPY_MODEL_059a094b1fcc457bb346d12ee30243c6",
       "value": " 1239/1239 [03:59&lt;00:00,  5.23it/s]"
      }
     },
     "d938e2a5fd0c4d708bdd23a6eb23ad72": {
      "model_module": "@jupyter-widgets/base",
      "model_module_version": "2.0.0",
      "model_name": "LayoutModel",
      "state": {}
     },
     "d96e9cb7a990415bb00f7dc6d343fcb9": {
      "model_module": "@jupyter-widgets/controls",
      "model_module_version": "2.0.0",
      "model_name": "HTMLStyleModel",
      "state": {
       "description_width": "",
       "font_size": null,
       "text_color": null
      }
     },
     "dc6efb4a586b46e78e9516db4368eca0": {
      "model_module": "@jupyter-widgets/base",
      "model_module_version": "2.0.0",
      "model_name": "LayoutModel",
      "state": {}
     },
     "dcab89e375514814b66777a468e4c8f6": {
      "model_module": "@jupyter-widgets/controls",
      "model_module_version": "2.0.0",
      "model_name": "ProgressStyleModel",
      "state": {
       "description_width": ""
      }
     },
     "eea41246a0904d45aff2f6628ad4d208": {
      "model_module": "@jupyter-widgets/controls",
      "model_module_version": "2.0.0",
      "model_name": "FloatProgressModel",
      "state": {
       "bar_style": "success",
       "layout": "IPY_MODEL_1ecb9c1ac6f14fc9a0757510c432546a",
       "max": 2,
       "style": "IPY_MODEL_27c45d33c54643aea6721d6f4d1f2f2d",
       "value": 2
      }
     },
     "f3239ab5ddf147c19426563f690d940b": {
      "model_module": "@jupyter-widgets/controls",
      "model_module_version": "2.0.0",
      "model_name": "ProgressStyleModel",
      "state": {
       "description_width": ""
      }
     },
     "fe0fffb774304df2ae1f14d353ff7157": {
      "model_module": "@jupyter-widgets/base",
      "model_module_version": "2.0.0",
      "model_name": "LayoutModel",
      "state": {}
     }
    },
    "version_major": 2,
    "version_minor": 0
   }
  }
 },
 "nbformat": 4,
 "nbformat_minor": 5
}
