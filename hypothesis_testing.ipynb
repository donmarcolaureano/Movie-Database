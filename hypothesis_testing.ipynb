{
 "cells": [
  {
   "cell_type": "markdown",
   "id": "dcbd9d18-3b78-4f9b-b529-d8edad0798be",
   "metadata": {},
   "source": [
    "# Questions to Answer\n",
    "\n",
    "## - The stakeholder's first question is: does the MPAA rating of a movie (G/PG/PG-13/R) affect how much revenue the movie generates?\n",
    "\n",
    "- They want you to perform a statistical test to get a mathematically-supported answer.\n",
    "- They want you to report if you found a significant difference between ratings.\n",
    "- If so, what was the p-value of your analysis?\n",
    "- And which rating earns the most revenue?\n",
    "- They want you to prepare a visualization that supports your finding.\n",
    "\n",
    "## - It is then up to you to think of 2 additional hypotheses to test that your stakeholder may want to know.\n",
    "\n",
    "    Some example hypotheses you could test:\n",
    "\n",
    "- Do movies that are over 2.5 hours long earn more revenue than movies that are 1.5 hours long (or less)?\n",
    "- Do movies released in 2020 earn less revenue than movies released in 2018?\n",
    "- How do the years compare for movie ratings?\n",
    "- Do some movie genres earn more revenue than others?\n",
    "- Are some genres higher rated than others? etc."
   ]
  },
  {
   "cell_type": "code",
   "execution_count": null,
   "id": "52c467ba-2424-4349-a613-941adf227c4b",
   "metadata": {},
   "outputs": [],
   "source": []
  }
 ],
 "metadata": {
  "kernelspec": {
   "display_name": "Python (dojo-env)",
   "language": "python",
   "name": "dojo-env"
  },
  "language_info": {
   "codemirror_mode": {
    "name": "ipython",
    "version": 3
   },
   "file_extension": ".py",
   "mimetype": "text/x-python",
   "name": "python",
   "nbconvert_exporter": "python",
   "pygments_lexer": "ipython3",
   "version": "3.10.10"
  },
  "widgets": {
   "application/vnd.jupyter.widget-state+json": {
    "state": {},
    "version_major": 2,
    "version_minor": 0
   }
  }
 },
 "nbformat": 4,
 "nbformat_minor": 5
}
