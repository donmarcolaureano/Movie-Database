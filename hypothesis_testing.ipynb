{
 "cells": [
  {
   "cell_type": "markdown",
   "id": "dcbd9d18-3b78-4f9b-b529-d8edad0798be",
   "metadata": {},
   "source": [
    "# Questions to Answer\n",
    "\n",
    "## - The stakeholder's first question is: does the MPAA rating of a movie (G/PG/PG-13/R) affect how much revenue the movie generates?\n",
    "\n",
    "- They want you to perform a statistical test to get a mathematically-supported answer.\n",
    "- They want you to report if you found a significant difference between ratings.\n",
    "- If so, what was the p-value of your analysis?\n",
    "- And which rating earns the most revenue?\n",
    "- They want you to prepare a visualization that supports your finding.\n",
    "\n",
    "## - It is then up to you to think of 2 additional hypotheses to test that your stakeholder may want to know.\n",
    "\n",
    "    Some example hypotheses you could test:\n",
    "\n",
    "- Do movies that are over 2.5 hours long earn more revenue than movies that are 1.5 hours long (or less)?\n",
    "- Do movies released in 2020 earn less revenue than movies released in 2018?\n",
    "- How do the years compare for movie ratings?\n",
    "- Do some movie genres earn more revenue than others?\n",
    "- Are some genres higher rated than others? etc."
   ]
  },
  {
   "cell_type": "markdown",
   "id": "ab263579-60c8-4e31-84d7-bf21b5783cfb",
   "metadata": {},
   "source": [
    "# imports functions and connection"
   ]
  },
  {
   "cell_type": "code",
   "execution_count": 10,
   "id": "52c467ba-2424-4349-a613-941adf227c4b",
   "metadata": {},
   "outputs": [],
   "source": [
    "# imports\n",
    "import pandas as pd\n",
    "import pymysql\n",
    "import matplotlib.pyplot as plt\n",
    "import seaborn as sns\n",
    "from tqdm.notebook import tqdm_notebook\n",
    "import glob\n",
    "import json, os, time, math\n",
    "import tmdbsimple as tmdb"
   ]
  },
  {
   "cell_type": "code",
   "execution_count": 11,
   "id": "a91f1c0b-c4b2-4ac8-87ff-73895b2ac5cb",
   "metadata": {},
   "outputs": [
    {
     "data": {
      "text/plain": [
       "dict_keys(['client-id', 'api-key'])"
      ]
     },
     "execution_count": 11,
     "metadata": {},
     "output_type": "execute_result"
    }
   ],
   "source": [
    "with open('/Users/marcolaureano2/.secret/tmdb_api.json', 'r') as f:\n",
    "    login = json.load(f)\n",
    "## Display the keys of the loaded dict\n",
    "login.keys()"
   ]
  },
  {
   "cell_type": "code",
   "execution_count": 12,
   "id": "65861279-edf5-4a11-9682-e9c335d91eb0",
   "metadata": {},
   "outputs": [],
   "source": [
    "tmdb.API_KEY =  login['api-key']"
   ]
  },
  {
   "cell_type": "code",
   "execution_count": 13,
   "id": "4d88fc1d-ebce-40ac-8b96-5a83a1b85a58",
   "metadata": {},
   "outputs": [],
   "source": [
    "def get_movie_with_rating(movie_id):\n",
    "    # get the movie object for the current id\n",
    "    movie = tmdb.Movies(movie_id)\n",
    "    \n",
    "    # save the .info .releases dictionaries\n",
    "    info = movie.info()\n",
    "    \n",
    "    releases = movie.releases()\n",
    "    # loop through countries in releases\n",
    "    for c in releases['countries']:\n",
    "        # if the country abbreviation == US\n",
    "        if c['iso_3166_1'] == 'US':\n",
    "            # save a 'certification' key in info with the certification\n",
    "            info['certification'] = c['certification']\n",
    "    return info"
   ]
  },
  {
   "cell_type": "code",
   "execution_count": 14,
   "id": "535783bd-9370-4b1e-b919-110ec891d998",
   "metadata": {},
   "outputs": [],
   "source": [
    "def write_json(new_data, filename): \n",
    "\n",
    "    with open(filename,'r+') as file:\n",
    "        # First we load existing data into a dict.\n",
    "        file_data = json.load(file)\n",
    "        ## Choose extend or append\n",
    "        if (type(new_data) == list) & (type(file_data) == list):\n",
    "            file_data.extend(new_data)\n",
    "        else:\n",
    "             file_data.append(new_data)\n",
    "        # Sets file's current position at offset.\n",
    "        file.seek(0)\n",
    "        # convert back to json.\n",
    "        json.dump(file_data, file)"
   ]
  },
  {
   "cell_type": "code",
   "execution_count": 15,
   "id": "0ce2e470-14f7-4e7c-8c4c-3e6c0de9ace7",
   "metadata": {},
   "outputs": [
    {
     "data": {
      "text/plain": [
       "['IMDB Movie Dataset Info.docx',\n",
       " 'api_resultsfinal_tmdb_data_2001.csv.gz',\n",
       " 'tmdb_results_combined_2002.csv.gz',\n",
       " '.DS_Store',\n",
       " 'tmdb_results_combined_2012.csv.gz',\n",
       " 'tmdb_results_combined_2016.csv.gz',\n",
       " 'tmdb_api_results_2016.json',\n",
       " 'tmdb_api_results_2001.json',\n",
       " 'final_tmdb_data_2002.csv.gz',\n",
       " 'tmdb_results_combined_2014.csv.gz',\n",
       " 'api_resultstmdb_api_results_[2001, 2002].json',\n",
       " 'tmdb_api_results_2002.json',\n",
       " 'tmdb_api_results_[2001, 2002].json',\n",
       " 'tmdb_api_results_2014.json',\n",
       " 'tmdb_api_results_2015.json',\n",
       " 'TitleRatings.tsv',\n",
       " 'tmdb_api_results_2003.json',\n",
       " 'title-akas-us-only.csv',\n",
       " 'tmdb_results_combined_2013.csv.gz',\n",
       " 'filtered_ratings.csv',\n",
       " 'tmdb_results_combined_2001.csv.gz',\n",
       " 'preprocessed_movie_data.csv',\n",
       " 'final_tmdb_data_2001.csv.gz',\n",
       " '.ipynb_checkpoints',\n",
       " 'tmdb_api_results_2012.json',\n",
       " 'TitleBasics.tsv',\n",
       " 'Data',\n",
       " 'tmdb_results_combined_2015.csv.gz',\n",
       " 'tmdb_api_results_2013.json']"
      ]
     },
     "execution_count": 15,
     "metadata": {},
     "output_type": "execute_result"
    }
   ],
   "source": [
    "FOLDER = \"Data/\"\n",
    "os.makedirs(FOLDER, exist_ok=True)\n",
    "os.listdir(FOLDER)"
   ]
  },
  {
   "cell_type": "code",
   "execution_count": 16,
   "id": "8f857bae-636d-4918-b8d8-8c4f7b9a6de7",
   "metadata": {
    "tags": []
   },
   "outputs": [
    {
     "data": {
      "text/html": [
       "<div>\n",
       "<style scoped>\n",
       "    .dataframe tbody tr th:only-of-type {\n",
       "        vertical-align: middle;\n",
       "    }\n",
       "\n",
       "    .dataframe tbody tr th {\n",
       "        vertical-align: top;\n",
       "    }\n",
       "\n",
       "    .dataframe thead th {\n",
       "        text-align: right;\n",
       "    }\n",
       "</style>\n",
       "<table border=\"1\" class=\"dataframe\">\n",
       "  <thead>\n",
       "    <tr style=\"text-align: right;\">\n",
       "      <th></th>\n",
       "      <th>Unnamed: 0</th>\n",
       "      <th>tconst</th>\n",
       "      <th>titleType</th>\n",
       "      <th>primaryTitle</th>\n",
       "      <th>originalTitle</th>\n",
       "      <th>isAdult</th>\n",
       "      <th>startYear</th>\n",
       "      <th>endYear</th>\n",
       "      <th>runtimeMinutes</th>\n",
       "      <th>genres</th>\n",
       "    </tr>\n",
       "  </thead>\n",
       "  <tbody>\n",
       "    <tr>\n",
       "      <th>0</th>\n",
       "      <td>34802</td>\n",
       "      <td>tt0035423</td>\n",
       "      <td>movie</td>\n",
       "      <td>Kate &amp; Leopold</td>\n",
       "      <td>Kate &amp; Leopold</td>\n",
       "      <td>0</td>\n",
       "      <td>2001.0</td>\n",
       "      <td>NaN</td>\n",
       "      <td>118</td>\n",
       "      <td>Comedy,Fantasy,Romance</td>\n",
       "    </tr>\n",
       "    <tr>\n",
       "      <th>1</th>\n",
       "      <td>61114</td>\n",
       "      <td>tt0062336</td>\n",
       "      <td>movie</td>\n",
       "      <td>The Tango of the Widower and Its Distorting Mi...</td>\n",
       "      <td>El tango del viudo y su espejo deformante</td>\n",
       "      <td>0</td>\n",
       "      <td>2020.0</td>\n",
       "      <td>NaN</td>\n",
       "      <td>70</td>\n",
       "      <td>Drama</td>\n",
       "    </tr>\n",
       "    <tr>\n",
       "      <th>2</th>\n",
       "      <td>67666</td>\n",
       "      <td>tt0069049</td>\n",
       "      <td>movie</td>\n",
       "      <td>The Other Side of the Wind</td>\n",
       "      <td>The Other Side of the Wind</td>\n",
       "      <td>0</td>\n",
       "      <td>2018.0</td>\n",
       "      <td>NaN</td>\n",
       "      <td>122</td>\n",
       "      <td>Drama</td>\n",
       "    </tr>\n",
       "    <tr>\n",
       "      <th>3</th>\n",
       "      <td>81515</td>\n",
       "      <td>tt0083324</td>\n",
       "      <td>movie</td>\n",
       "      <td>The White Lions</td>\n",
       "      <td>The White Lions</td>\n",
       "      <td>0</td>\n",
       "      <td>NaN</td>\n",
       "      <td>NaN</td>\n",
       "      <td>97</td>\n",
       "      <td>Drama</td>\n",
       "    </tr>\n",
       "    <tr>\n",
       "      <th>4</th>\n",
       "      <td>86793</td>\n",
       "      <td>tt0088751</td>\n",
       "      <td>movie</td>\n",
       "      <td>The Naked Monster</td>\n",
       "      <td>The Naked Monster</td>\n",
       "      <td>0</td>\n",
       "      <td>2005.0</td>\n",
       "      <td>NaN</td>\n",
       "      <td>100</td>\n",
       "      <td>Comedy,Horror,Sci-Fi</td>\n",
       "    </tr>\n",
       "    <tr>\n",
       "      <th>...</th>\n",
       "      <td>...</td>\n",
       "      <td>...</td>\n",
       "      <td>...</td>\n",
       "      <td>...</td>\n",
       "      <td>...</td>\n",
       "      <td>...</td>\n",
       "      <td>...</td>\n",
       "      <td>...</td>\n",
       "      <td>...</td>\n",
       "      <td>...</td>\n",
       "    </tr>\n",
       "    <tr>\n",
       "      <th>84543</th>\n",
       "      <td>10016225</td>\n",
       "      <td>tt9915130</td>\n",
       "      <td>movie</td>\n",
       "      <td>Meet John Doe</td>\n",
       "      <td>Meet John Doe</td>\n",
       "      <td>0</td>\n",
       "      <td>NaN</td>\n",
       "      <td>NaN</td>\n",
       "      <td>120</td>\n",
       "      <td>NaN</td>\n",
       "    </tr>\n",
       "    <tr>\n",
       "      <th>84544</th>\n",
       "      <td>10016544</td>\n",
       "      <td>tt9915872</td>\n",
       "      <td>movie</td>\n",
       "      <td>The Last White Witch</td>\n",
       "      <td>My Girlfriend is a Wizard</td>\n",
       "      <td>0</td>\n",
       "      <td>2019.0</td>\n",
       "      <td>NaN</td>\n",
       "      <td>97</td>\n",
       "      <td>Comedy,Drama,Fantasy</td>\n",
       "    </tr>\n",
       "    <tr>\n",
       "      <th>84545</th>\n",
       "      <td>10016684</td>\n",
       "      <td>tt9916170</td>\n",
       "      <td>movie</td>\n",
       "      <td>The Rehearsal</td>\n",
       "      <td>O Ensaio</td>\n",
       "      <td>0</td>\n",
       "      <td>2019.0</td>\n",
       "      <td>NaN</td>\n",
       "      <td>51</td>\n",
       "      <td>Drama</td>\n",
       "    </tr>\n",
       "    <tr>\n",
       "      <th>84546</th>\n",
       "      <td>10016693</td>\n",
       "      <td>tt9916190</td>\n",
       "      <td>movie</td>\n",
       "      <td>Safeguard</td>\n",
       "      <td>Safeguard</td>\n",
       "      <td>0</td>\n",
       "      <td>2020.0</td>\n",
       "      <td>NaN</td>\n",
       "      <td>95</td>\n",
       "      <td>Action,Adventure,Thriller</td>\n",
       "    </tr>\n",
       "    <tr>\n",
       "      <th>84547</th>\n",
       "      <td>10016777</td>\n",
       "      <td>tt9916362</td>\n",
       "      <td>movie</td>\n",
       "      <td>Coven</td>\n",
       "      <td>Akelarre</td>\n",
       "      <td>0</td>\n",
       "      <td>2020.0</td>\n",
       "      <td>NaN</td>\n",
       "      <td>92</td>\n",
       "      <td>Drama,History</td>\n",
       "    </tr>\n",
       "  </tbody>\n",
       "</table>\n",
       "<p>84548 rows × 10 columns</p>\n",
       "</div>"
      ],
      "text/plain": [
       "       Unnamed: 0     tconst titleType  \\\n",
       "0           34802  tt0035423     movie   \n",
       "1           61114  tt0062336     movie   \n",
       "2           67666  tt0069049     movie   \n",
       "3           81515  tt0083324     movie   \n",
       "4           86793  tt0088751     movie   \n",
       "...           ...        ...       ...   \n",
       "84543    10016225  tt9915130     movie   \n",
       "84544    10016544  tt9915872     movie   \n",
       "84545    10016684  tt9916170     movie   \n",
       "84546    10016693  tt9916190     movie   \n",
       "84547    10016777  tt9916362     movie   \n",
       "\n",
       "                                            primaryTitle  \\\n",
       "0                                         Kate & Leopold   \n",
       "1      The Tango of the Widower and Its Distorting Mi...   \n",
       "2                             The Other Side of the Wind   \n",
       "3                                        The White Lions   \n",
       "4                                      The Naked Monster   \n",
       "...                                                  ...   \n",
       "84543                                      Meet John Doe   \n",
       "84544                               The Last White Witch   \n",
       "84545                                      The Rehearsal   \n",
       "84546                                          Safeguard   \n",
       "84547                                              Coven   \n",
       "\n",
       "                                   originalTitle  isAdult  startYear  endYear  \\\n",
       "0                                 Kate & Leopold        0     2001.0      NaN   \n",
       "1      El tango del viudo y su espejo deformante        0     2020.0      NaN   \n",
       "2                     The Other Side of the Wind        0     2018.0      NaN   \n",
       "3                                The White Lions        0        NaN      NaN   \n",
       "4                              The Naked Monster        0     2005.0      NaN   \n",
       "...                                          ...      ...        ...      ...   \n",
       "84543                              Meet John Doe        0        NaN      NaN   \n",
       "84544                  My Girlfriend is a Wizard        0     2019.0      NaN   \n",
       "84545                                   O Ensaio        0     2019.0      NaN   \n",
       "84546                                  Safeguard        0     2020.0      NaN   \n",
       "84547                                   Akelarre        0     2020.0      NaN   \n",
       "\n",
       "       runtimeMinutes                     genres  \n",
       "0                 118     Comedy,Fantasy,Romance  \n",
       "1                  70                      Drama  \n",
       "2                 122                      Drama  \n",
       "3                  97                      Drama  \n",
       "4                 100       Comedy,Horror,Sci-Fi  \n",
       "...               ...                        ...  \n",
       "84543             120                        NaN  \n",
       "84544              97       Comedy,Drama,Fantasy  \n",
       "84545              51                      Drama  \n",
       "84546              95  Action,Adventure,Thriller  \n",
       "84547              92              Drama,History  \n",
       "\n",
       "[84548 rows x 10 columns]"
      ]
     },
     "execution_count": 16,
     "metadata": {},
     "output_type": "execute_result"
    }
   ],
   "source": [
    "basics = pd.read_csv('/Users/marcolaureano2/Documents/GitHub/Movie-Database/Data/preprocessed_movie_data.csv')\n",
    "basics"
   ]
  },
  {
   "cell_type": "markdown",
   "id": "9987d151-d749-4251-b9ed-56bc7c0e09f2",
   "metadata": {
    "jp-MarkdownHeadingCollapsed": true,
    "tags": []
   },
   "source": [
    "# 2012, 2013, 2014"
   ]
  },
  {
   "cell_type": "code",
   "execution_count": 8,
   "id": "f9ac0eac-dba7-4491-bc5c-ac00bf8c4278",
   "metadata": {},
   "outputs": [],
   "source": [
    "YEARS_TO_GET = [2012, 2013, 2014]\n",
    "errors = [ ]"
   ]
  },
  {
   "cell_type": "code",
   "execution_count": 9,
   "id": "fcc0a5dd-565a-4b8d-8679-8aedd025687d",
   "metadata": {},
   "outputs": [
    {
     "data": {
      "application/vnd.jupyter.widget-view+json": {
       "model_id": "503cf35741de493ea5465c3b247d5510",
       "version_major": 2,
       "version_minor": 0
      },
      "text/plain": [
       "YEARS:   0%|          | 0/3 [00:00<?, ?it/s]"
      ]
     },
     "metadata": {},
     "output_type": "display_data"
    },
    {
     "data": {
      "application/vnd.jupyter.widget-view+json": {
       "model_id": "c3c2218592524350a9bb78380d567649",
       "version_major": 2,
       "version_minor": 0
      },
      "text/plain": [
       "Movies from 2012:   0%|          | 0/1246 [00:00<?, ?it/s]"
      ]
     },
     "metadata": {},
     "output_type": "display_data"
    },
    {
     "data": {
      "application/vnd.jupyter.widget-view+json": {
       "model_id": "3d27dadb031549a0ba776fa764fd17b0",
       "version_major": 2,
       "version_minor": 0
      },
      "text/plain": [
       "Movies from 2013:   0%|          | 0/2973 [00:00<?, ?it/s]"
      ]
     },
     "metadata": {},
     "output_type": "display_data"
    },
    {
     "data": {
      "application/vnd.jupyter.widget-view+json": {
       "model_id": "9799b686d1eb496482fe995e31183dc1",
       "version_major": 2,
       "version_minor": 0
      },
      "text/plain": [
       "Movies from 2014:   0%|          | 0/4968 [00:00<?, ?it/s]"
      ]
     },
     "metadata": {},
     "output_type": "display_data"
    }
   ],
   "source": [
    "# OUTER loop\n",
    "for YEAR in tqdm_notebook(YEARS_TO_GET, desc='YEARS', position=0):\n",
    "    #Defining the JSON file to store results for year\n",
    "    JSON_FILE = f'{FOLDER}tmdb_api_results_{YEAR}.json'\n",
    "    file_exists = os.path.isfile(JSON_FILE)\n",
    "    \n",
    "    if file_exists == False:\n",
    "        print(f\"Creating {JSON_FILE} for API results for {YEAR}.\")\n",
    "    # save an empty dict with just \"imdb_id\" to the new json file.\n",
    "        with open(JSON_FILE,'w') as f:\n",
    "            json.dump([{'imdb_id':0}],f)\n",
    "    \n",
    "    df = basics.loc[ basics['startYear'] == YEAR].copy()\n",
    "    movie_ids = df['tconst'].copy()\n",
    "    movie_ids\n",
    "    # Load existing data from json into a dataframe called \"previous_df\"\n",
    "    previous_df = pd.read_json(JSON_FILE)\n",
    "    previous_df\n",
    "    \n",
    "    # filter out any ids that are already in the JSON_FILE\n",
    "    movie_ids_to_get = movie_ids[~movie_ids.isin(previous_df['imdb_id'])]\n",
    "    for movie_id in tqdm_notebook(movie_ids_to_get, f\"Movies from {YEAR}\", position = 1, leave=True):\n",
    "        try:\n",
    "    # Retrieve then data for the movie id\n",
    "            temp = get_movie_with_rating(movie_id)  \n",
    "    # Append/extend results to existing file using a pre-made function\n",
    "            write_json(temp,JSON_FILE)\n",
    "    # Short 20 ms sleep to prevent overwhelming server\n",
    "            time.sleep(0.02)\n",
    "        \n",
    "        except Exception as e:\n",
    "            errors.append([YEARS_TO_GET, e])\n",
    "            continue\n",
    "        \n",
    "    final_year_df = pd.read_json(JSON_FILE)\n",
    "    final_year_df.to_csv(f\"{FOLDER}tmdb_results_combined_{YEAR}.csv.gz\", compression=\"gzip\", index=False)"
   ]
  },
  {
   "cell_type": "markdown",
   "id": "57cd3b04-1b9b-44bb-a710-12a2d154ebd8",
   "metadata": {
    "tags": []
   },
   "source": [
    "# 2015, 2016"
   ]
  },
  {
   "cell_type": "code",
   "execution_count": 17,
   "id": "903c56e2-f709-420e-aa46-d3de38431681",
   "metadata": {},
   "outputs": [],
   "source": [
    "YEARS_TO_GET = [2015, 2016]"
   ]
  },
  {
   "cell_type": "code",
   "execution_count": 18,
   "id": "1232abbe-25bf-4251-9402-21fbbd706372",
   "metadata": {},
   "outputs": [
    {
     "data": {
      "application/vnd.jupyter.widget-view+json": {
       "model_id": "9d99137c43e942819ad549fe1c4b3dcc",
       "version_major": 2,
       "version_minor": 0
      },
      "text/plain": [
       "YEARS:   0%|          | 0/2 [00:00<?, ?it/s]"
      ]
     },
     "metadata": {},
     "output_type": "display_data"
    },
    {
     "data": {
      "application/vnd.jupyter.widget-view+json": {
       "model_id": "b4cac326a56f4cb29c60a6ae0c974804",
       "version_major": 2,
       "version_minor": 0
      },
      "text/plain": [
       "Movies from 2015:   0%|          | 0/5116 [00:00<?, ?it/s]"
      ]
     },
     "metadata": {},
     "output_type": "display_data"
    },
    {
     "data": {
      "application/vnd.jupyter.widget-view+json": {
       "model_id": "d301e56480304659a2284e4bbfa6b111",
       "version_major": 2,
       "version_minor": 0
      },
      "text/plain": [
       "Movies from 2016:   0%|          | 0/5326 [00:00<?, ?it/s]"
      ]
     },
     "metadata": {},
     "output_type": "display_data"
    }
   ],
   "source": [
    "# OUTER loop\n",
    "for YEAR in tqdm_notebook(YEARS_TO_GET, desc='YEARS', position=0):\n",
    "    #Defining the JSON file to store results for year\n",
    "    JSON_FILE = f'{FOLDER}tmdb_api_results_{YEAR}.json'\n",
    "    file_exists = os.path.isfile(JSON_FILE)\n",
    "    \n",
    "    if file_exists == False:\n",
    "        print(f\"Creating {JSON_FILE} for API results for {YEAR}.\")\n",
    "    # save an empty dict with just \"imdb_id\" to the new json file.\n",
    "        with open(JSON_FILE,'w') as f:\n",
    "            json.dump([{'imdb_id':0}],f)\n",
    "    \n",
    "    df = basics.loc[ basics['startYear'] == YEAR].copy()\n",
    "    movie_ids = df['tconst'].copy()\n",
    "    movie_ids\n",
    "    # Load existing data from json into a dataframe called \"previous_df\"\n",
    "    previous_df = pd.read_json(JSON_FILE)\n",
    "    previous_df\n",
    "    \n",
    "    # filter out any ids that are already in the JSON_FILE\n",
    "    movie_ids_to_get = movie_ids[~movie_ids.isin(previous_df['imdb_id'])]\n",
    "    for movie_id in tqdm_notebook(movie_ids_to_get, f\"Movies from {YEAR}\", position = 1, leave=True):\n",
    "        try:\n",
    "    # Retrieve then data for the movie id\n",
    "            temp = get_movie_with_rating(movie_id)  \n",
    "    # Append/extend results to existing file using a pre-made function\n",
    "            write_json(temp,JSON_FILE)\n",
    "    # Short 20 ms sleep to prevent overwhelming server\n",
    "            time.sleep(0.02)\n",
    "        \n",
    "        except Exception as e:\n",
    "            errors.append([YEARS_TO_GET, e])\n",
    "            continue\n",
    "        \n",
    "    final_year_df = pd.read_json(JSON_FILE)\n",
    "    final_year_df.to_csv(f\"{FOLDER}tmdb_results_combined_{YEAR}.csv.gz\", compression=\"gzip\", index=False)"
   ]
  },
  {
   "cell_type": "markdown",
   "id": "f931fe54-30f8-4dae-a37f-1193c8ea2e8e",
   "metadata": {},
   "source": [
    "# glob"
   ]
  },
  {
   "cell_type": "code",
   "execution_count": null,
   "id": "9c3f747f-b44d-4653-9d5e-bc8a21a57e46",
   "metadata": {},
   "outputs": [],
   "source": [
    "print(f\"- Total errors: {len(errors)}\")"
   ]
  },
  {
   "cell_type": "code",
   "execution_count": null,
   "id": "a0f67d26-e81b-4329-8d69-a575ca7aec1a",
   "metadata": {},
   "outputs": [],
   "source": [
    "final_year_df"
   ]
  },
  {
   "cell_type": "code",
   "execution_count": null,
   "id": "9db6ea44-f47b-49ca-b44f-a836a01649f3",
   "metadata": {
    "tags": []
   },
   "outputs": [],
   "source": [
    "# Use glob to get all filepaths that match the pattern (*=wildcard)\n",
    "tmdb_files = sorted(glob.glob(\"Data/final_tmdb_data*.csv.gz\"))\n",
    "tmdb_files"
   ]
  }
 ],
 "metadata": {
  "kernelspec": {
   "display_name": "Python (dojo-env)",
   "language": "python",
   "name": "dojo-env"
  },
  "language_info": {
   "codemirror_mode": {
    "name": "ipython",
    "version": 3
   },
   "file_extension": ".py",
   "mimetype": "text/x-python",
   "name": "python",
   "nbconvert_exporter": "python",
   "pygments_lexer": "ipython3",
   "version": "3.10.10"
  },
  "widgets": {
   "application/vnd.jupyter.widget-state+json": {
    "state": {
     "0081fcc686674144a8f6b2818aa5cb9c": {
      "model_module": "@jupyter-widgets/controls",
      "model_module_version": "2.0.0",
      "model_name": "HTMLModel",
      "state": {
       "layout": "IPY_MODEL_2e7040b7ce9040ecbaae05e1c52bcefc",
       "style": "IPY_MODEL_aba32a1974674bed8e4aa683ccfa8def",
       "value": " 2/2 [1:34:26&lt;00:00, 2857.77s/it]"
      }
     },
     "0bd7ad161ab04f0ca80aa5eafbf5ca09": {
      "model_module": "@jupyter-widgets/controls",
      "model_module_version": "2.0.0",
      "model_name": "FloatProgressModel",
      "state": {
       "bar_style": "success",
       "layout": "IPY_MODEL_9cc801e5cc7442178a20f22d00bbe068",
       "max": 2973,
       "style": "IPY_MODEL_8c49a2c8318d47ed90fac8434d5e3cb7",
       "value": 2973
      }
     },
     "10abb5d3214949eca8aff2dc49f34690": {
      "model_module": "@jupyter-widgets/base",
      "model_module_version": "2.0.0",
      "model_name": "LayoutModel",
      "state": {}
     },
     "126d3b92f1c5447e92c0ef1385ef415e": {
      "model_module": "@jupyter-widgets/controls",
      "model_module_version": "2.0.0",
      "model_name": "ProgressStyleModel",
      "state": {
       "description_width": ""
      }
     },
     "18f44e320e554adb89e0741247c5ad32": {
      "model_module": "@jupyter-widgets/controls",
      "model_module_version": "2.0.0",
      "model_name": "ProgressStyleModel",
      "state": {
       "description_width": ""
      }
     },
     "206d6d7ebc8e4f48bcd52a6e6e01095a": {
      "model_module": "@jupyter-widgets/controls",
      "model_module_version": "2.0.0",
      "model_name": "HTMLModel",
      "state": {
       "layout": "IPY_MODEL_b329be2f522043fe8723c934be03b654",
       "style": "IPY_MODEL_c9269a115c024d708713a322e8a25026",
       "value": " 4968/4968 [45:33&lt;00:00,  3.24it/s]"
      }
     },
     "27f02532ad0d4b3db4c5099bb28f1fdc": {
      "model_module": "@jupyter-widgets/base",
      "model_module_version": "2.0.0",
      "model_name": "LayoutModel",
      "state": {}
     },
     "2cf66717b1724a18a20d338f1947085e": {
      "model_module": "@jupyter-widgets/base",
      "model_module_version": "2.0.0",
      "model_name": "LayoutModel",
      "state": {}
     },
     "2d2e65d192b5457eb5ecb65d5d3e1a74": {
      "model_module": "@jupyter-widgets/base",
      "model_module_version": "2.0.0",
      "model_name": "LayoutModel",
      "state": {}
     },
     "2e7040b7ce9040ecbaae05e1c52bcefc": {
      "model_module": "@jupyter-widgets/base",
      "model_module_version": "2.0.0",
      "model_name": "LayoutModel",
      "state": {}
     },
     "3d27dadb031549a0ba776fa764fd17b0": {
      "model_module": "@jupyter-widgets/controls",
      "model_module_version": "2.0.0",
      "model_name": "HBoxModel",
      "state": {
       "children": [
        "IPY_MODEL_ea174df130284eb9a296e8a03ef9ad3c",
        "IPY_MODEL_0bd7ad161ab04f0ca80aa5eafbf5ca09",
        "IPY_MODEL_d378668e7ecf48578ace4692f598a7c1"
       ],
       "layout": "IPY_MODEL_2d2e65d192b5457eb5ecb65d5d3e1a74"
      }
     },
     "412d9f1e18eb440c831ba59307318a23": {
      "model_module": "@jupyter-widgets/base",
      "model_module_version": "2.0.0",
      "model_name": "LayoutModel",
      "state": {}
     },
     "424b8baf319640609154177387c0b0c7": {
      "model_module": "@jupyter-widgets/controls",
      "model_module_version": "2.0.0",
      "model_name": "HTMLModel",
      "state": {
       "layout": "IPY_MODEL_baf9eb7940f7455a893d9e612eb4efa7",
       "style": "IPY_MODEL_4f80d022164d43d3b278bf71d97e894a",
       "value": "Movies from 2016: 100%"
      }
     },
     "47b9b0932ef246bc98958204ebc48b65": {
      "model_module": "@jupyter-widgets/controls",
      "model_module_version": "2.0.0",
      "model_name": "ProgressStyleModel",
      "state": {
       "description_width": ""
      }
     },
     "49218c519ea64143a87abea54ca3d2c7": {
      "model_module": "@jupyter-widgets/controls",
      "model_module_version": "2.0.0",
      "model_name": "HTMLModel",
      "state": {
       "layout": "IPY_MODEL_d8a3561d6a544be0988069fa76b958ec",
       "style": "IPY_MODEL_d2aa07cffb364414b885fab6d04c982e",
       "value": "YEARS: 100%"
      }
     },
     "4cffe64c909a4d93ba1cdeeb1a43b8c4": {
      "model_module": "@jupyter-widgets/controls",
      "model_module_version": "2.0.0",
      "model_name": "HTMLModel",
      "state": {
       "layout": "IPY_MODEL_fb4671afbd6842dba7aea6e064015a85",
       "style": "IPY_MODEL_de587b5f50214b5a88b97881ab878251",
       "value": "Movies from 2014: 100%"
      }
     },
     "4e499eeb8ccb4494b19b560addbb0d33": {
      "model_module": "@jupyter-widgets/base",
      "model_module_version": "2.0.0",
      "model_name": "LayoutModel",
      "state": {}
     },
     "4f80d022164d43d3b278bf71d97e894a": {
      "model_module": "@jupyter-widgets/controls",
      "model_module_version": "2.0.0",
      "model_name": "HTMLStyleModel",
      "state": {
       "description_width": "",
       "font_size": null,
       "text_color": null
      }
     },
     "503cf35741de493ea5465c3b247d5510": {
      "model_module": "@jupyter-widgets/controls",
      "model_module_version": "2.0.0",
      "model_name": "HBoxModel",
      "state": {
       "children": [
        "IPY_MODEL_49218c519ea64143a87abea54ca3d2c7",
        "IPY_MODEL_c28fb1213dd4455483b60f2aebf6aa03",
        "IPY_MODEL_60d23b6575ee4998889f076792d4a3b6"
       ],
       "layout": "IPY_MODEL_e8a520e24952459c9aec0e1241121074"
      }
     },
     "52102b2a5a4c4f10a00180b58c45e0fc": {
      "model_module": "@jupyter-widgets/base",
      "model_module_version": "2.0.0",
      "model_name": "LayoutModel",
      "state": {}
     },
     "5440e41e11d94910a13849f1aef1e294": {
      "model_module": "@jupyter-widgets/controls",
      "model_module_version": "2.0.0",
      "model_name": "FloatProgressModel",
      "state": {
       "bar_style": "success",
       "layout": "IPY_MODEL_4e499eeb8ccb4494b19b560addbb0d33",
       "max": 5326,
       "style": "IPY_MODEL_126d3b92f1c5447e92c0ef1385ef415e",
       "value": 5326
      }
     },
     "56d8fcd7ae5a4de2a180bfa45dae7147": {
      "model_module": "@jupyter-widgets/base",
      "model_module_version": "2.0.0",
      "model_name": "LayoutModel",
      "state": {}
     },
     "60193ed969a54e94b6b78463a7dd616a": {
      "model_module": "@jupyter-widgets/controls",
      "model_module_version": "2.0.0",
      "model_name": "HTMLModel",
      "state": {
       "layout": "IPY_MODEL_e846d97b1b7a4740b01482b50c19830e",
       "style": "IPY_MODEL_a821582034514f95b45f758f84e5063f",
       "value": " 5116/5116 [44:54&lt;00:00,  2.95it/s]"
      }
     },
     "60d23b6575ee4998889f076792d4a3b6": {
      "model_module": "@jupyter-widgets/controls",
      "model_module_version": "2.0.0",
      "model_name": "HTMLModel",
      "state": {
       "layout": "IPY_MODEL_c38adbcba0f64e4cb513b6e019826207",
       "style": "IPY_MODEL_b381e630fd3f4a348ad5e037a23a1ad1",
       "value": " 3/3 [1:14:11&lt;00:00, 1773.60s/it]"
      }
     },
     "7b0feb6bc5f9480a924f1faade0ff01a": {
      "model_module": "@jupyter-widgets/base",
      "model_module_version": "2.0.0",
      "model_name": "LayoutModel",
      "state": {}
     },
     "827912a66b85438b89788eeadbf86f9e": {
      "model_module": "@jupyter-widgets/controls",
      "model_module_version": "2.0.0",
      "model_name": "HTMLStyleModel",
      "state": {
       "description_width": "",
       "font_size": null,
       "text_color": null
      }
     },
     "862ac533211e4c85b365b44a1df1f02a": {
      "model_module": "@jupyter-widgets/controls",
      "model_module_version": "2.0.0",
      "model_name": "HTMLStyleModel",
      "state": {
       "description_width": "",
       "font_size": null,
       "text_color": null
      }
     },
     "88050d4f8d9341e4acb3fc3247186724": {
      "model_module": "@jupyter-widgets/controls",
      "model_module_version": "2.0.0",
      "model_name": "FloatProgressModel",
      "state": {
       "bar_style": "success",
       "layout": "IPY_MODEL_a3deaa451d014296908bf0fc2467f295",
       "max": 1246,
       "style": "IPY_MODEL_e15e90439ff64611865950be036f4665",
       "value": 1246
      }
     },
     "884f007bf65e4d87b2bd613d24af65b7": {
      "model_module": "@jupyter-widgets/controls",
      "model_module_version": "2.0.0",
      "model_name": "HTMLStyleModel",
      "state": {
       "description_width": "",
       "font_size": null,
       "text_color": null
      }
     },
     "8b8c8a0d79554260999c175d309106a4": {
      "model_module": "@jupyter-widgets/controls",
      "model_module_version": "2.0.0",
      "model_name": "HTMLStyleModel",
      "state": {
       "description_width": "",
       "font_size": null,
       "text_color": null
      }
     },
     "8c49a2c8318d47ed90fac8434d5e3cb7": {
      "model_module": "@jupyter-widgets/controls",
      "model_module_version": "2.0.0",
      "model_name": "ProgressStyleModel",
      "state": {
       "description_width": ""
      }
     },
     "8dd86a1ff08b4ef698dba97993965d74": {
      "model_module": "@jupyter-widgets/base",
      "model_module_version": "2.0.0",
      "model_name": "LayoutModel",
      "state": {}
     },
     "8e31f17b46344941974f2a703926c535": {
      "model_module": "@jupyter-widgets/controls",
      "model_module_version": "2.0.0",
      "model_name": "HTMLModel",
      "state": {
       "layout": "IPY_MODEL_10abb5d3214949eca8aff2dc49f34690",
       "style": "IPY_MODEL_884f007bf65e4d87b2bd613d24af65b7",
       "value": " 1246/1246 [04:05&lt;00:00,  5.35it/s]"
      }
     },
     "8fdb7880b1784d0e8dfb82429f704d43": {
      "model_module": "@jupyter-widgets/controls",
      "model_module_version": "2.0.0",
      "model_name": "HTMLStyleModel",
      "state": {
       "description_width": "",
       "font_size": null,
       "text_color": null
      }
     },
     "9515b1aba7e84cd1b27177a9b4b27812": {
      "model_module": "@jupyter-widgets/base",
      "model_module_version": "2.0.0",
      "model_name": "LayoutModel",
      "state": {}
     },
     "959a416589634e3dbe4e0237b1be5420": {
      "model_module": "@jupyter-widgets/controls",
      "model_module_version": "2.0.0",
      "model_name": "FloatProgressModel",
      "state": {
       "bar_style": "success",
       "layout": "IPY_MODEL_c919c98119154d88b208ab50ea10cc87",
       "max": 4968,
       "style": "IPY_MODEL_18f44e320e554adb89e0741247c5ad32",
       "value": 4968
      }
     },
     "96e2c114ca13446aa9cd1c282c63b9ac": {
      "model_module": "@jupyter-widgets/controls",
      "model_module_version": "2.0.0",
      "model_name": "FloatProgressModel",
      "state": {
       "bar_style": "success",
       "layout": "IPY_MODEL_27f02532ad0d4b3db4c5099bb28f1fdc",
       "max": 2,
       "style": "IPY_MODEL_c649a693aa23457590998c52aa2beea9",
       "value": 2
      }
     },
     "9799b686d1eb496482fe995e31183dc1": {
      "model_module": "@jupyter-widgets/controls",
      "model_module_version": "2.0.0",
      "model_name": "HBoxModel",
      "state": {
       "children": [
        "IPY_MODEL_4cffe64c909a4d93ba1cdeeb1a43b8c4",
        "IPY_MODEL_959a416589634e3dbe4e0237b1be5420",
        "IPY_MODEL_206d6d7ebc8e4f48bcd52a6e6e01095a"
       ],
       "layout": "IPY_MODEL_8dd86a1ff08b4ef698dba97993965d74"
      }
     },
     "9bf70ae351ff4d8993bb85ebc952ce00": {
      "model_module": "@jupyter-widgets/base",
      "model_module_version": "2.0.0",
      "model_name": "LayoutModel",
      "state": {}
     },
     "9cc801e5cc7442178a20f22d00bbe068": {
      "model_module": "@jupyter-widgets/base",
      "model_module_version": "2.0.0",
      "model_name": "LayoutModel",
      "state": {}
     },
     "9d99137c43e942819ad549fe1c4b3dcc": {
      "model_module": "@jupyter-widgets/controls",
      "model_module_version": "2.0.0",
      "model_name": "HBoxModel",
      "state": {
       "children": [
        "IPY_MODEL_eefe917253c646e08851bfa098bf979c",
        "IPY_MODEL_96e2c114ca13446aa9cd1c282c63b9ac",
        "IPY_MODEL_0081fcc686674144a8f6b2818aa5cb9c"
       ],
       "layout": "IPY_MODEL_2cf66717b1724a18a20d338f1947085e"
      }
     },
     "a15d6cffefe34e57bb0c481143910414": {
      "model_module": "@jupyter-widgets/base",
      "model_module_version": "2.0.0",
      "model_name": "LayoutModel",
      "state": {}
     },
     "a3deaa451d014296908bf0fc2467f295": {
      "model_module": "@jupyter-widgets/base",
      "model_module_version": "2.0.0",
      "model_name": "LayoutModel",
      "state": {}
     },
     "a65794302579457da0a83f6f4c203c94": {
      "model_module": "@jupyter-widgets/controls",
      "model_module_version": "2.0.0",
      "model_name": "FloatProgressModel",
      "state": {
       "bar_style": "success",
       "layout": "IPY_MODEL_412d9f1e18eb440c831ba59307318a23",
       "max": 5116,
       "style": "IPY_MODEL_a74c556e455e4a2eb949bb87c9b75d5f",
       "value": 5116
      }
     },
     "a74c556e455e4a2eb949bb87c9b75d5f": {
      "model_module": "@jupyter-widgets/controls",
      "model_module_version": "2.0.0",
      "model_name": "ProgressStyleModel",
      "state": {
       "description_width": ""
      }
     },
     "a821582034514f95b45f758f84e5063f": {
      "model_module": "@jupyter-widgets/controls",
      "model_module_version": "2.0.0",
      "model_name": "HTMLStyleModel",
      "state": {
       "description_width": "",
       "font_size": null,
       "text_color": null
      }
     },
     "aba32a1974674bed8e4aa683ccfa8def": {
      "model_module": "@jupyter-widgets/controls",
      "model_module_version": "2.0.0",
      "model_name": "HTMLStyleModel",
      "state": {
       "description_width": "",
       "font_size": null,
       "text_color": null
      }
     },
     "b329be2f522043fe8723c934be03b654": {
      "model_module": "@jupyter-widgets/base",
      "model_module_version": "2.0.0",
      "model_name": "LayoutModel",
      "state": {}
     },
     "b381e630fd3f4a348ad5e037a23a1ad1": {
      "model_module": "@jupyter-widgets/controls",
      "model_module_version": "2.0.0",
      "model_name": "HTMLStyleModel",
      "state": {
       "description_width": "",
       "font_size": null,
       "text_color": null
      }
     },
     "b4cac326a56f4cb29c60a6ae0c974804": {
      "model_module": "@jupyter-widgets/controls",
      "model_module_version": "2.0.0",
      "model_name": "HBoxModel",
      "state": {
       "children": [
        "IPY_MODEL_f8cbcc0cc10a4e9a91d9f6a23eb5354e",
        "IPY_MODEL_a65794302579457da0a83f6f4c203c94",
        "IPY_MODEL_60193ed969a54e94b6b78463a7dd616a"
       ],
       "layout": "IPY_MODEL_9515b1aba7e84cd1b27177a9b4b27812"
      }
     },
     "baf9eb7940f7455a893d9e612eb4efa7": {
      "model_module": "@jupyter-widgets/base",
      "model_module_version": "2.0.0",
      "model_name": "LayoutModel",
      "state": {}
     },
     "bd2c041812c743d8900be8305528512f": {
      "model_module": "@jupyter-widgets/controls",
      "model_module_version": "2.0.0",
      "model_name": "HTMLStyleModel",
      "state": {
       "description_width": "",
       "font_size": null,
       "text_color": null
      }
     },
     "bf1e1c2a246841c19149e254642a5a05": {
      "model_module": "@jupyter-widgets/controls",
      "model_module_version": "2.0.0",
      "model_name": "HTMLModel",
      "state": {
       "layout": "IPY_MODEL_ee9c66f5d72246dcb920a6bc6a799512",
       "style": "IPY_MODEL_bd2c041812c743d8900be8305528512f",
       "value": " 5326/5326 [49:31&lt;00:00,  1.38it/s]"
      }
     },
     "c0d2de2fd78c4a0c98852ea6e2db2ce5": {
      "model_module": "@jupyter-widgets/base",
      "model_module_version": "2.0.0",
      "model_name": "LayoutModel",
      "state": {}
     },
     "c28fb1213dd4455483b60f2aebf6aa03": {
      "model_module": "@jupyter-widgets/controls",
      "model_module_version": "2.0.0",
      "model_name": "FloatProgressModel",
      "state": {
       "bar_style": "success",
       "layout": "IPY_MODEL_a15d6cffefe34e57bb0c481143910414",
       "max": 3,
       "style": "IPY_MODEL_47b9b0932ef246bc98958204ebc48b65",
       "value": 3
      }
     },
     "c38adbcba0f64e4cb513b6e019826207": {
      "model_module": "@jupyter-widgets/base",
      "model_module_version": "2.0.0",
      "model_name": "LayoutModel",
      "state": {}
     },
     "c3c2218592524350a9bb78380d567649": {
      "model_module": "@jupyter-widgets/controls",
      "model_module_version": "2.0.0",
      "model_name": "HBoxModel",
      "state": {
       "children": [
        "IPY_MODEL_e87f1409654e462da7b3ab1b4026c1ca",
        "IPY_MODEL_88050d4f8d9341e4acb3fc3247186724",
        "IPY_MODEL_8e31f17b46344941974f2a703926c535"
       ],
       "layout": "IPY_MODEL_e71e5894355f45f69bb3cc4da9d8f4b2"
      }
     },
     "c649a693aa23457590998c52aa2beea9": {
      "model_module": "@jupyter-widgets/controls",
      "model_module_version": "2.0.0",
      "model_name": "ProgressStyleModel",
      "state": {
       "description_width": ""
      }
     },
     "c919c98119154d88b208ab50ea10cc87": {
      "model_module": "@jupyter-widgets/base",
      "model_module_version": "2.0.0",
      "model_name": "LayoutModel",
      "state": {}
     },
     "c9269a115c024d708713a322e8a25026": {
      "model_module": "@jupyter-widgets/controls",
      "model_module_version": "2.0.0",
      "model_name": "HTMLStyleModel",
      "state": {
       "description_width": "",
       "font_size": null,
       "text_color": null
      }
     },
     "d2aa07cffb364414b885fab6d04c982e": {
      "model_module": "@jupyter-widgets/controls",
      "model_module_version": "2.0.0",
      "model_name": "HTMLStyleModel",
      "state": {
       "description_width": "",
       "font_size": null,
       "text_color": null
      }
     },
     "d301e56480304659a2284e4bbfa6b111": {
      "model_module": "@jupyter-widgets/controls",
      "model_module_version": "2.0.0",
      "model_name": "HBoxModel",
      "state": {
       "children": [
        "IPY_MODEL_424b8baf319640609154177387c0b0c7",
        "IPY_MODEL_5440e41e11d94910a13849f1aef1e294",
        "IPY_MODEL_bf1e1c2a246841c19149e254642a5a05"
       ],
       "layout": "IPY_MODEL_c0d2de2fd78c4a0c98852ea6e2db2ce5"
      }
     },
     "d378668e7ecf48578ace4692f598a7c1": {
      "model_module": "@jupyter-widgets/controls",
      "model_module_version": "2.0.0",
      "model_name": "HTMLModel",
      "state": {
       "layout": "IPY_MODEL_f4d1b979378a400f9578574152e7b891",
       "style": "IPY_MODEL_8fdb7880b1784d0e8dfb82429f704d43",
       "value": " 2973/2973 [24:31&lt;00:00,  2.82it/s]"
      }
     },
     "d8a3561d6a544be0988069fa76b958ec": {
      "model_module": "@jupyter-widgets/base",
      "model_module_version": "2.0.0",
      "model_name": "LayoutModel",
      "state": {}
     },
     "de587b5f50214b5a88b97881ab878251": {
      "model_module": "@jupyter-widgets/controls",
      "model_module_version": "2.0.0",
      "model_name": "HTMLStyleModel",
      "state": {
       "description_width": "",
       "font_size": null,
       "text_color": null
      }
     },
     "e15e90439ff64611865950be036f4665": {
      "model_module": "@jupyter-widgets/controls",
      "model_module_version": "2.0.0",
      "model_name": "ProgressStyleModel",
      "state": {
       "description_width": ""
      }
     },
     "e614246702734c6298982c76697214c6": {
      "model_module": "@jupyter-widgets/controls",
      "model_module_version": "2.0.0",
      "model_name": "HTMLStyleModel",
      "state": {
       "description_width": "",
       "font_size": null,
       "text_color": null
      }
     },
     "e71e5894355f45f69bb3cc4da9d8f4b2": {
      "model_module": "@jupyter-widgets/base",
      "model_module_version": "2.0.0",
      "model_name": "LayoutModel",
      "state": {}
     },
     "e846d97b1b7a4740b01482b50c19830e": {
      "model_module": "@jupyter-widgets/base",
      "model_module_version": "2.0.0",
      "model_name": "LayoutModel",
      "state": {}
     },
     "e87f1409654e462da7b3ab1b4026c1ca": {
      "model_module": "@jupyter-widgets/controls",
      "model_module_version": "2.0.0",
      "model_name": "HTMLModel",
      "state": {
       "layout": "IPY_MODEL_52102b2a5a4c4f10a00180b58c45e0fc",
       "style": "IPY_MODEL_862ac533211e4c85b365b44a1df1f02a",
       "value": "Movies from 2012: 100%"
      }
     },
     "e8a520e24952459c9aec0e1241121074": {
      "model_module": "@jupyter-widgets/base",
      "model_module_version": "2.0.0",
      "model_name": "LayoutModel",
      "state": {}
     },
     "ea174df130284eb9a296e8a03ef9ad3c": {
      "model_module": "@jupyter-widgets/controls",
      "model_module_version": "2.0.0",
      "model_name": "HTMLModel",
      "state": {
       "layout": "IPY_MODEL_56d8fcd7ae5a4de2a180bfa45dae7147",
       "style": "IPY_MODEL_827912a66b85438b89788eeadbf86f9e",
       "value": "Movies from 2013: 100%"
      }
     },
     "ee9c66f5d72246dcb920a6bc6a799512": {
      "model_module": "@jupyter-widgets/base",
      "model_module_version": "2.0.0",
      "model_name": "LayoutModel",
      "state": {}
     },
     "eefe917253c646e08851bfa098bf979c": {
      "model_module": "@jupyter-widgets/controls",
      "model_module_version": "2.0.0",
      "model_name": "HTMLModel",
      "state": {
       "layout": "IPY_MODEL_7b0feb6bc5f9480a924f1faade0ff01a",
       "style": "IPY_MODEL_e614246702734c6298982c76697214c6",
       "value": "YEARS: 100%"
      }
     },
     "f4d1b979378a400f9578574152e7b891": {
      "model_module": "@jupyter-widgets/base",
      "model_module_version": "2.0.0",
      "model_name": "LayoutModel",
      "state": {}
     },
     "f8cbcc0cc10a4e9a91d9f6a23eb5354e": {
      "model_module": "@jupyter-widgets/controls",
      "model_module_version": "2.0.0",
      "model_name": "HTMLModel",
      "state": {
       "layout": "IPY_MODEL_9bf70ae351ff4d8993bb85ebc952ce00",
       "style": "IPY_MODEL_8b8c8a0d79554260999c175d309106a4",
       "value": "Movies from 2015: 100%"
      }
     },
     "fb4671afbd6842dba7aea6e064015a85": {
      "model_module": "@jupyter-widgets/base",
      "model_module_version": "2.0.0",
      "model_name": "LayoutModel",
      "state": {}
     }
    },
    "version_major": 2,
    "version_minor": 0
   }
  }
 },
 "nbformat": 4,
 "nbformat_minor": 5
}
