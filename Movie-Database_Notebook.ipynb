{
 "cells": [
  {
   "cell_type": "code",
   "execution_count": 1,
   "id": "700eca6a",
   "metadata": {},
   "outputs": [],
   "source": [
    "import pandas as pd\n",
    "import numpy as np"
   ]
  },
  {
   "cell_type": "code",
   "execution_count": 2,
   "id": "2d9d440e",
   "metadata": {},
   "outputs": [
    {
     "name": "stderr",
     "output_type": "stream",
     "text": [
      "/var/folders/jx/cpydz30j3y523cvb2w4sjv7h0000gn/T/ipykernel_36200/4194135588.py:1: DtypeWarning: Columns (7) have mixed types. Specify dtype option on import or set low_memory=False.\n",
      "  title_df = pd.read_csv('/Users/marcolaureano2/Documents/GitHub/Movie-Database/Data/title-akas-us-only.csv')\n"
     ]
    }
   ],
   "source": [
    "title_df = pd.read_csv('/Users/marcolaureano2/Documents/GitHub/Movie-Database/Data/title-akas-us-only.csv')"
   ]
  },
  {
   "cell_type": "code",
   "execution_count": 3,
   "id": "4c519432",
   "metadata": {
    "scrolled": true
   },
   "outputs": [
    {
     "data": {
      "text/html": [
       "<div>\n",
       "<style scoped>\n",
       "    .dataframe tbody tr th:only-of-type {\n",
       "        vertical-align: middle;\n",
       "    }\n",
       "\n",
       "    .dataframe tbody tr th {\n",
       "        vertical-align: top;\n",
       "    }\n",
       "\n",
       "    .dataframe thead th {\n",
       "        text-align: right;\n",
       "    }\n",
       "</style>\n",
       "<table border=\"1\" class=\"dataframe\">\n",
       "  <thead>\n",
       "    <tr style=\"text-align: right;\">\n",
       "      <th></th>\n",
       "      <th>titleId</th>\n",
       "      <th>ordering</th>\n",
       "      <th>title</th>\n",
       "      <th>region</th>\n",
       "      <th>language</th>\n",
       "      <th>types</th>\n",
       "      <th>attributes</th>\n",
       "      <th>isOriginalTitle</th>\n",
       "    </tr>\n",
       "  </thead>\n",
       "  <tbody>\n",
       "    <tr>\n",
       "      <th>0</th>\n",
       "      <td>tt0000001</td>\n",
       "      <td>6</td>\n",
       "      <td>Carmencita</td>\n",
       "      <td>US</td>\n",
       "      <td>\\N</td>\n",
       "      <td>imdbDisplay</td>\n",
       "      <td>\\N</td>\n",
       "      <td>0</td>\n",
       "    </tr>\n",
       "    <tr>\n",
       "      <th>1</th>\n",
       "      <td>tt0000002</td>\n",
       "      <td>7</td>\n",
       "      <td>The Clown and His Dogs</td>\n",
       "      <td>US</td>\n",
       "      <td>\\N</td>\n",
       "      <td>\\N</td>\n",
       "      <td>literal English title</td>\n",
       "      <td>0</td>\n",
       "    </tr>\n",
       "    <tr>\n",
       "      <th>2</th>\n",
       "      <td>tt0000005</td>\n",
       "      <td>10</td>\n",
       "      <td>Blacksmith Scene</td>\n",
       "      <td>US</td>\n",
       "      <td>\\N</td>\n",
       "      <td>imdbDisplay</td>\n",
       "      <td>\\N</td>\n",
       "      <td>0</td>\n",
       "    </tr>\n",
       "    <tr>\n",
       "      <th>3</th>\n",
       "      <td>tt0000005</td>\n",
       "      <td>1</td>\n",
       "      <td>Blacksmithing Scene</td>\n",
       "      <td>US</td>\n",
       "      <td>\\N</td>\n",
       "      <td>alternative</td>\n",
       "      <td>\\N</td>\n",
       "      <td>0</td>\n",
       "    </tr>\n",
       "    <tr>\n",
       "      <th>4</th>\n",
       "      <td>tt0000005</td>\n",
       "      <td>6</td>\n",
       "      <td>Blacksmith Scene #1</td>\n",
       "      <td>US</td>\n",
       "      <td>\\N</td>\n",
       "      <td>alternative</td>\n",
       "      <td>\\N</td>\n",
       "      <td>0</td>\n",
       "    </tr>\n",
       "    <tr>\n",
       "      <th>...</th>\n",
       "      <td>...</td>\n",
       "      <td>...</td>\n",
       "      <td>...</td>\n",
       "      <td>...</td>\n",
       "      <td>...</td>\n",
       "      <td>...</td>\n",
       "      <td>...</td>\n",
       "      <td>...</td>\n",
       "    </tr>\n",
       "    <tr>\n",
       "      <th>1452559</th>\n",
       "      <td>tt9916560</td>\n",
       "      <td>1</td>\n",
       "      <td>March of Dimes Presents: Once Upon a Dime</td>\n",
       "      <td>US</td>\n",
       "      <td>\\N</td>\n",
       "      <td>imdbDisplay</td>\n",
       "      <td>\\N</td>\n",
       "      <td>0</td>\n",
       "    </tr>\n",
       "    <tr>\n",
       "      <th>1452560</th>\n",
       "      <td>tt9916620</td>\n",
       "      <td>1</td>\n",
       "      <td>The Copeland Case</td>\n",
       "      <td>US</td>\n",
       "      <td>\\N</td>\n",
       "      <td>imdbDisplay</td>\n",
       "      <td>\\N</td>\n",
       "      <td>0</td>\n",
       "    </tr>\n",
       "    <tr>\n",
       "      <th>1452561</th>\n",
       "      <td>tt9916702</td>\n",
       "      <td>1</td>\n",
       "      <td>Loving London: The Playground</td>\n",
       "      <td>US</td>\n",
       "      <td>\\N</td>\n",
       "      <td>\\N</td>\n",
       "      <td>\\N</td>\n",
       "      <td>0</td>\n",
       "    </tr>\n",
       "    <tr>\n",
       "      <th>1452562</th>\n",
       "      <td>tt9916756</td>\n",
       "      <td>1</td>\n",
       "      <td>Pretty Pretty Black Girl</td>\n",
       "      <td>US</td>\n",
       "      <td>\\N</td>\n",
       "      <td>imdbDisplay</td>\n",
       "      <td>\\N</td>\n",
       "      <td>0</td>\n",
       "    </tr>\n",
       "    <tr>\n",
       "      <th>1452563</th>\n",
       "      <td>tt9916764</td>\n",
       "      <td>1</td>\n",
       "      <td>38</td>\n",
       "      <td>US</td>\n",
       "      <td>\\N</td>\n",
       "      <td>imdbDisplay</td>\n",
       "      <td>\\N</td>\n",
       "      <td>0</td>\n",
       "    </tr>\n",
       "  </tbody>\n",
       "</table>\n",
       "<p>1452564 rows × 8 columns</p>\n",
       "</div>"
      ],
      "text/plain": [
       "           titleId  ordering                                      title  \\\n",
       "0        tt0000001         6                                 Carmencita   \n",
       "1        tt0000002         7                     The Clown and His Dogs   \n",
       "2        tt0000005        10                           Blacksmith Scene   \n",
       "3        tt0000005         1                        Blacksmithing Scene   \n",
       "4        tt0000005         6                        Blacksmith Scene #1   \n",
       "...            ...       ...                                        ...   \n",
       "1452559  tt9916560         1  March of Dimes Presents: Once Upon a Dime   \n",
       "1452560  tt9916620         1                          The Copeland Case   \n",
       "1452561  tt9916702         1              Loving London: The Playground   \n",
       "1452562  tt9916756         1                   Pretty Pretty Black Girl   \n",
       "1452563  tt9916764         1                                         38   \n",
       "\n",
       "        region language        types             attributes isOriginalTitle  \n",
       "0           US       \\N  imdbDisplay                     \\N               0  \n",
       "1           US       \\N           \\N  literal English title               0  \n",
       "2           US       \\N  imdbDisplay                     \\N               0  \n",
       "3           US       \\N  alternative                     \\N               0  \n",
       "4           US       \\N  alternative                     \\N               0  \n",
       "...        ...      ...          ...                    ...             ...  \n",
       "1452559     US       \\N  imdbDisplay                     \\N               0  \n",
       "1452560     US       \\N  imdbDisplay                     \\N               0  \n",
       "1452561     US       \\N           \\N                     \\N               0  \n",
       "1452562     US       \\N  imdbDisplay                     \\N               0  \n",
       "1452563     US       \\N  imdbDisplay                     \\N               0  \n",
       "\n",
       "[1452564 rows x 8 columns]"
      ]
     },
     "execution_count": 3,
     "metadata": {},
     "output_type": "execute_result"
    }
   ],
   "source": [
    "title_df"
   ]
  },
  {
   "cell_type": "code",
   "execution_count": 4,
   "id": "f8ba8df8",
   "metadata": {},
   "outputs": [
    {
     "data": {
      "text/html": [
       "<div>\n",
       "<style scoped>\n",
       "    .dataframe tbody tr th:only-of-type {\n",
       "        vertical-align: middle;\n",
       "    }\n",
       "\n",
       "    .dataframe tbody tr th {\n",
       "        vertical-align: top;\n",
       "    }\n",
       "\n",
       "    .dataframe thead th {\n",
       "        text-align: right;\n",
       "    }\n",
       "</style>\n",
       "<table border=\"1\" class=\"dataframe\">\n",
       "  <thead>\n",
       "    <tr style=\"text-align: right;\">\n",
       "      <th></th>\n",
       "      <th>titleId</th>\n",
       "      <th>ordering</th>\n",
       "      <th>title</th>\n",
       "      <th>region</th>\n",
       "      <th>language</th>\n",
       "      <th>types</th>\n",
       "      <th>attributes</th>\n",
       "      <th>isOriginalTitle</th>\n",
       "    </tr>\n",
       "  </thead>\n",
       "  <tbody>\n",
       "    <tr>\n",
       "      <th>0</th>\n",
       "      <td>tt0000001</td>\n",
       "      <td>6</td>\n",
       "      <td>Carmencita</td>\n",
       "      <td>US</td>\n",
       "      <td>\\N</td>\n",
       "      <td>imdbDisplay</td>\n",
       "      <td>\\N</td>\n",
       "      <td>0</td>\n",
       "    </tr>\n",
       "    <tr>\n",
       "      <th>1</th>\n",
       "      <td>tt0000002</td>\n",
       "      <td>7</td>\n",
       "      <td>The Clown and His Dogs</td>\n",
       "      <td>US</td>\n",
       "      <td>\\N</td>\n",
       "      <td>\\N</td>\n",
       "      <td>literal English title</td>\n",
       "      <td>0</td>\n",
       "    </tr>\n",
       "    <tr>\n",
       "      <th>2</th>\n",
       "      <td>tt0000005</td>\n",
       "      <td>10</td>\n",
       "      <td>Blacksmith Scene</td>\n",
       "      <td>US</td>\n",
       "      <td>\\N</td>\n",
       "      <td>imdbDisplay</td>\n",
       "      <td>\\N</td>\n",
       "      <td>0</td>\n",
       "    </tr>\n",
       "    <tr>\n",
       "      <th>3</th>\n",
       "      <td>tt0000005</td>\n",
       "      <td>1</td>\n",
       "      <td>Blacksmithing Scene</td>\n",
       "      <td>US</td>\n",
       "      <td>\\N</td>\n",
       "      <td>alternative</td>\n",
       "      <td>\\N</td>\n",
       "      <td>0</td>\n",
       "    </tr>\n",
       "    <tr>\n",
       "      <th>4</th>\n",
       "      <td>tt0000005</td>\n",
       "      <td>6</td>\n",
       "      <td>Blacksmith Scene #1</td>\n",
       "      <td>US</td>\n",
       "      <td>\\N</td>\n",
       "      <td>alternative</td>\n",
       "      <td>\\N</td>\n",
       "      <td>0</td>\n",
       "    </tr>\n",
       "  </tbody>\n",
       "</table>\n",
       "</div>"
      ],
      "text/plain": [
       "     titleId  ordering                   title region language        types  \\\n",
       "0  tt0000001         6              Carmencita     US       \\N  imdbDisplay   \n",
       "1  tt0000002         7  The Clown and His Dogs     US       \\N           \\N   \n",
       "2  tt0000005        10        Blacksmith Scene     US       \\N  imdbDisplay   \n",
       "3  tt0000005         1     Blacksmithing Scene     US       \\N  alternative   \n",
       "4  tt0000005         6     Blacksmith Scene #1     US       \\N  alternative   \n",
       "\n",
       "              attributes isOriginalTitle  \n",
       "0                     \\N               0  \n",
       "1  literal English title               0  \n",
       "2                     \\N               0  \n",
       "3                     \\N               0  \n",
       "4                     \\N               0  "
      ]
     },
     "execution_count": 4,
     "metadata": {},
     "output_type": "execute_result"
    }
   ],
   "source": [
    "title_df.head()"
   ]
  },
  {
   "cell_type": "code",
   "execution_count": 5,
   "id": "60da7c56",
   "metadata": {},
   "outputs": [
    {
     "ename": "UnicodeDecodeError",
     "evalue": "'utf-8' codec can't decode byte 0xc0 in position 1: invalid start byte",
     "output_type": "error",
     "traceback": [
      "\u001b[0;31m---------------------------------------------------------------------------\u001b[0m",
      "\u001b[0;31mUnicodeDecodeError\u001b[0m                        Traceback (most recent call last)",
      "File \u001b[0;32m~/anaconda3/envs/dojo-env/lib/python3.10/site-packages/pandas/_libs/parsers.pyx:1083\u001b[0m, in \u001b[0;36mpandas._libs.parsers.TextReader._convert_tokens\u001b[0;34m()\u001b[0m\n",
      "File \u001b[0;32m~/anaconda3/envs/dojo-env/lib/python3.10/site-packages/pandas/_libs/parsers.pyx:1233\u001b[0m, in \u001b[0;36mpandas._libs.parsers.TextReader._convert_with_dtype\u001b[0;34m()\u001b[0m\n",
      "File \u001b[0;32m~/anaconda3/envs/dojo-env/lib/python3.10/site-packages/pandas/_libs/parsers.pyx:1246\u001b[0m, in \u001b[0;36mpandas._libs.parsers.TextReader._string_convert\u001b[0;34m()\u001b[0m\n",
      "File \u001b[0;32m~/anaconda3/envs/dojo-env/lib/python3.10/site-packages/pandas/_libs/parsers.pyx:1444\u001b[0m, in \u001b[0;36mpandas._libs.parsers._string_box_utf8\u001b[0;34m()\u001b[0m\n",
      "\u001b[0;31mUnicodeDecodeError\u001b[0m: 'utf-8' codec can't decode byte 0xc0 in position 1: invalid start byte",
      "\nDuring handling of the above exception, another exception occurred:\n",
      "\u001b[0;31mUnicodeDecodeError\u001b[0m                        Traceback (most recent call last)",
      "Cell \u001b[0;32mIn[5], line 1\u001b[0m\n\u001b[0;32m----> 1\u001b[0m basics \u001b[38;5;241m=\u001b[39m \u001b[43mpd\u001b[49m\u001b[38;5;241;43m.\u001b[39;49m\u001b[43mread_csv\u001b[49m\u001b[43m(\u001b[49m\u001b[38;5;124;43m'\u001b[39;49m\u001b[38;5;124;43m/Users/marcolaureano2/Documents/GitHub/Movie-Database/Data/TitleBasics.tsv\u001b[39;49m\u001b[38;5;124;43m'\u001b[39;49m\u001b[43m,\u001b[49m\u001b[43m \u001b[49m\u001b[43msep\u001b[49m\u001b[38;5;241;43m=\u001b[39;49m\u001b[38;5;124;43m'\u001b[39;49m\u001b[38;5;130;43;01m\\t\u001b[39;49;00m\u001b[38;5;124;43m'\u001b[39;49m\u001b[43m,\u001b[49m\u001b[43m \u001b[49m\u001b[43mlow_memory\u001b[49m\u001b[38;5;241;43m=\u001b[39;49m\u001b[38;5;28;43;01mFalse\u001b[39;49;00m\u001b[43m)\u001b[49m\n\u001b[1;32m      2\u001b[0m basics\n",
      "File \u001b[0;32m~/anaconda3/envs/dojo-env/lib/python3.10/site-packages/pandas/util/_decorators.py:211\u001b[0m, in \u001b[0;36mdeprecate_kwarg.<locals>._deprecate_kwarg.<locals>.wrapper\u001b[0;34m(*args, **kwargs)\u001b[0m\n\u001b[1;32m    209\u001b[0m     \u001b[38;5;28;01melse\u001b[39;00m:\n\u001b[1;32m    210\u001b[0m         kwargs[new_arg_name] \u001b[38;5;241m=\u001b[39m new_arg_value\n\u001b[0;32m--> 211\u001b[0m \u001b[38;5;28;01mreturn\u001b[39;00m \u001b[43mfunc\u001b[49m\u001b[43m(\u001b[49m\u001b[38;5;241;43m*\u001b[39;49m\u001b[43margs\u001b[49m\u001b[43m,\u001b[49m\u001b[43m \u001b[49m\u001b[38;5;241;43m*\u001b[39;49m\u001b[38;5;241;43m*\u001b[39;49m\u001b[43mkwargs\u001b[49m\u001b[43m)\u001b[49m\n",
      "File \u001b[0;32m~/anaconda3/envs/dojo-env/lib/python3.10/site-packages/pandas/util/_decorators.py:331\u001b[0m, in \u001b[0;36mdeprecate_nonkeyword_arguments.<locals>.decorate.<locals>.wrapper\u001b[0;34m(*args, **kwargs)\u001b[0m\n\u001b[1;32m    325\u001b[0m \u001b[38;5;28;01mif\u001b[39;00m \u001b[38;5;28mlen\u001b[39m(args) \u001b[38;5;241m>\u001b[39m num_allow_args:\n\u001b[1;32m    326\u001b[0m     warnings\u001b[38;5;241m.\u001b[39mwarn(\n\u001b[1;32m    327\u001b[0m         msg\u001b[38;5;241m.\u001b[39mformat(arguments\u001b[38;5;241m=\u001b[39m_format_argument_list(allow_args)),\n\u001b[1;32m    328\u001b[0m         \u001b[38;5;167;01mFutureWarning\u001b[39;00m,\n\u001b[1;32m    329\u001b[0m         stacklevel\u001b[38;5;241m=\u001b[39mfind_stack_level(),\n\u001b[1;32m    330\u001b[0m     )\n\u001b[0;32m--> 331\u001b[0m \u001b[38;5;28;01mreturn\u001b[39;00m \u001b[43mfunc\u001b[49m\u001b[43m(\u001b[49m\u001b[38;5;241;43m*\u001b[39;49m\u001b[43margs\u001b[49m\u001b[43m,\u001b[49m\u001b[43m \u001b[49m\u001b[38;5;241;43m*\u001b[39;49m\u001b[38;5;241;43m*\u001b[39;49m\u001b[43mkwargs\u001b[49m\u001b[43m)\u001b[49m\n",
      "File \u001b[0;32m~/anaconda3/envs/dojo-env/lib/python3.10/site-packages/pandas/io/parsers/readers.py:950\u001b[0m, in \u001b[0;36mread_csv\u001b[0;34m(filepath_or_buffer, sep, delimiter, header, names, index_col, usecols, squeeze, prefix, mangle_dupe_cols, dtype, engine, converters, true_values, false_values, skipinitialspace, skiprows, skipfooter, nrows, na_values, keep_default_na, na_filter, verbose, skip_blank_lines, parse_dates, infer_datetime_format, keep_date_col, date_parser, dayfirst, cache_dates, iterator, chunksize, compression, thousands, decimal, lineterminator, quotechar, quoting, doublequote, escapechar, comment, encoding, encoding_errors, dialect, error_bad_lines, warn_bad_lines, on_bad_lines, delim_whitespace, low_memory, memory_map, float_precision, storage_options)\u001b[0m\n\u001b[1;32m    935\u001b[0m kwds_defaults \u001b[38;5;241m=\u001b[39m _refine_defaults_read(\n\u001b[1;32m    936\u001b[0m     dialect,\n\u001b[1;32m    937\u001b[0m     delimiter,\n\u001b[0;32m   (...)\u001b[0m\n\u001b[1;32m    946\u001b[0m     defaults\u001b[38;5;241m=\u001b[39m{\u001b[38;5;124m\"\u001b[39m\u001b[38;5;124mdelimiter\u001b[39m\u001b[38;5;124m\"\u001b[39m: \u001b[38;5;124m\"\u001b[39m\u001b[38;5;124m,\u001b[39m\u001b[38;5;124m\"\u001b[39m},\n\u001b[1;32m    947\u001b[0m )\n\u001b[1;32m    948\u001b[0m kwds\u001b[38;5;241m.\u001b[39mupdate(kwds_defaults)\n\u001b[0;32m--> 950\u001b[0m \u001b[38;5;28;01mreturn\u001b[39;00m \u001b[43m_read\u001b[49m\u001b[43m(\u001b[49m\u001b[43mfilepath_or_buffer\u001b[49m\u001b[43m,\u001b[49m\u001b[43m \u001b[49m\u001b[43mkwds\u001b[49m\u001b[43m)\u001b[49m\n",
      "File \u001b[0;32m~/anaconda3/envs/dojo-env/lib/python3.10/site-packages/pandas/io/parsers/readers.py:611\u001b[0m, in \u001b[0;36m_read\u001b[0;34m(filepath_or_buffer, kwds)\u001b[0m\n\u001b[1;32m    608\u001b[0m     \u001b[38;5;28;01mreturn\u001b[39;00m parser\n\u001b[1;32m    610\u001b[0m \u001b[38;5;28;01mwith\u001b[39;00m parser:\n\u001b[0;32m--> 611\u001b[0m     \u001b[38;5;28;01mreturn\u001b[39;00m \u001b[43mparser\u001b[49m\u001b[38;5;241;43m.\u001b[39;49m\u001b[43mread\u001b[49m\u001b[43m(\u001b[49m\u001b[43mnrows\u001b[49m\u001b[43m)\u001b[49m\n",
      "File \u001b[0;32m~/anaconda3/envs/dojo-env/lib/python3.10/site-packages/pandas/io/parsers/readers.py:1778\u001b[0m, in \u001b[0;36mTextFileReader.read\u001b[0;34m(self, nrows)\u001b[0m\n\u001b[1;32m   1771\u001b[0m nrows \u001b[38;5;241m=\u001b[39m validate_integer(\u001b[38;5;124m\"\u001b[39m\u001b[38;5;124mnrows\u001b[39m\u001b[38;5;124m\"\u001b[39m, nrows)\n\u001b[1;32m   1772\u001b[0m \u001b[38;5;28;01mtry\u001b[39;00m:\n\u001b[1;32m   1773\u001b[0m     \u001b[38;5;66;03m# error: \"ParserBase\" has no attribute \"read\"\u001b[39;00m\n\u001b[1;32m   1774\u001b[0m     (\n\u001b[1;32m   1775\u001b[0m         index,\n\u001b[1;32m   1776\u001b[0m         columns,\n\u001b[1;32m   1777\u001b[0m         col_dict,\n\u001b[0;32m-> 1778\u001b[0m     ) \u001b[38;5;241m=\u001b[39m \u001b[38;5;28;43mself\u001b[39;49m\u001b[38;5;241;43m.\u001b[39;49m\u001b[43m_engine\u001b[49m\u001b[38;5;241;43m.\u001b[39;49m\u001b[43mread\u001b[49m\u001b[43m(\u001b[49m\u001b[43m  \u001b[49m\u001b[38;5;66;43;03m# type: ignore[attr-defined]\u001b[39;49;00m\n\u001b[1;32m   1779\u001b[0m \u001b[43m        \u001b[49m\u001b[43mnrows\u001b[49m\n\u001b[1;32m   1780\u001b[0m \u001b[43m    \u001b[49m\u001b[43m)\u001b[49m\n\u001b[1;32m   1781\u001b[0m \u001b[38;5;28;01mexcept\u001b[39;00m \u001b[38;5;167;01mException\u001b[39;00m:\n\u001b[1;32m   1782\u001b[0m     \u001b[38;5;28mself\u001b[39m\u001b[38;5;241m.\u001b[39mclose()\n",
      "File \u001b[0;32m~/anaconda3/envs/dojo-env/lib/python3.10/site-packages/pandas/io/parsers/c_parser_wrapper.py:235\u001b[0m, in \u001b[0;36mCParserWrapper.read\u001b[0;34m(self, nrows)\u001b[0m\n\u001b[1;32m    232\u001b[0m         data \u001b[38;5;241m=\u001b[39m _concatenate_chunks(chunks)\n\u001b[1;32m    234\u001b[0m     \u001b[38;5;28;01melse\u001b[39;00m:\n\u001b[0;32m--> 235\u001b[0m         data \u001b[38;5;241m=\u001b[39m \u001b[38;5;28;43mself\u001b[39;49m\u001b[38;5;241;43m.\u001b[39;49m\u001b[43m_reader\u001b[49m\u001b[38;5;241;43m.\u001b[39;49m\u001b[43mread\u001b[49m\u001b[43m(\u001b[49m\u001b[43mnrows\u001b[49m\u001b[43m)\u001b[49m\n\u001b[1;32m    236\u001b[0m \u001b[38;5;28;01mexcept\u001b[39;00m \u001b[38;5;167;01mStopIteration\u001b[39;00m:\n\u001b[1;32m    237\u001b[0m     \u001b[38;5;28;01mif\u001b[39;00m \u001b[38;5;28mself\u001b[39m\u001b[38;5;241m.\u001b[39m_first_chunk:\n",
      "File \u001b[0;32m~/anaconda3/envs/dojo-env/lib/python3.10/site-packages/pandas/_libs/parsers.pyx:790\u001b[0m, in \u001b[0;36mpandas._libs.parsers.TextReader.read\u001b[0;34m()\u001b[0m\n",
      "File \u001b[0;32m~/anaconda3/envs/dojo-env/lib/python3.10/site-packages/pandas/_libs/parsers.pyx:890\u001b[0m, in \u001b[0;36mpandas._libs.parsers.TextReader._read_rows\u001b[0;34m()\u001b[0m\n",
      "File \u001b[0;32m~/anaconda3/envs/dojo-env/lib/python3.10/site-packages/pandas/_libs/parsers.pyx:1037\u001b[0m, in \u001b[0;36mpandas._libs.parsers.TextReader._convert_column_data\u001b[0;34m()\u001b[0m\n",
      "File \u001b[0;32m~/anaconda3/envs/dojo-env/lib/python3.10/site-packages/pandas/_libs/parsers.pyx:1090\u001b[0m, in \u001b[0;36mpandas._libs.parsers.TextReader._convert_tokens\u001b[0;34m()\u001b[0m\n",
      "File \u001b[0;32m~/anaconda3/envs/dojo-env/lib/python3.10/site-packages/pandas/_libs/parsers.pyx:1233\u001b[0m, in \u001b[0;36mpandas._libs.parsers.TextReader._convert_with_dtype\u001b[0;34m()\u001b[0m\n",
      "File \u001b[0;32m~/anaconda3/envs/dojo-env/lib/python3.10/site-packages/pandas/_libs/parsers.pyx:1246\u001b[0m, in \u001b[0;36mpandas._libs.parsers.TextReader._string_convert\u001b[0;34m()\u001b[0m\n",
      "File \u001b[0;32m~/anaconda3/envs/dojo-env/lib/python3.10/site-packages/pandas/_libs/parsers.pyx:1444\u001b[0m, in \u001b[0;36mpandas._libs.parsers._string_box_utf8\u001b[0;34m()\u001b[0m\n",
      "\u001b[0;31mUnicodeDecodeError\u001b[0m: 'utf-8' codec can't decode byte 0xc0 in position 1: invalid start byte"
     ]
    }
   ],
   "source": [
    "basics = pd.read_csv('/Users/marcolaureano2/Documents/GitHub/Movie-Database/Data/TitleBasics.tsv', sep='\\t', low_memory=False)\n",
    "basics"
   ]
  },
  {
   "cell_type": "code",
   "execution_count": null,
   "id": "9714b454",
   "metadata": {},
   "outputs": [],
   "source": [
    "# Filter the basics table down to only include the US by using the filter akas dataframe\n",
    "filter_us_titles = basics['tconst'].isin(title_df['titleId'])\n",
    "basics = basics[filter_us_titles]\n",
    "basics"
   ]
  },
  {
   "cell_type": "code",
   "execution_count": null,
   "id": "25bba468",
   "metadata": {
    "scrolled": true,
    "tags": []
   },
   "outputs": [],
   "source": [
    "basics = basics.replace({'\\\\N':np.nan})\n",
    "basics"
   ]
  },
  {
   "cell_type": "code",
   "execution_count": null,
   "id": "5202de6b-c347-407e-a1da-5270d7e74664",
   "metadata": {
    "tags": []
   },
   "outputs": [],
   "source": [
    "basics.info()"
   ]
  },
  {
   "cell_type": "code",
   "execution_count": null,
   "id": "5dc4786b-8632-4edd-8150-f211039f6561",
   "metadata": {
    "tags": []
   },
   "outputs": [],
   "source": [
    "# Drop rows with null values in runtimeMinutes\n",
    "basics = basics.dropna(subset='runtimeMinutes')\n",
    "basics"
   ]
  },
  {
   "cell_type": "code",
   "execution_count": null,
   "id": "01a9e442-31c0-419c-a906-3c4bc902fa2f",
   "metadata": {
    "tags": []
   },
   "outputs": [],
   "source": [
    "basics['titleType'].nunique"
   ]
  },
  {
   "cell_type": "code",
   "execution_count": null,
   "id": "38b0b7b2-800f-402c-8021-29f2f4f779e8",
   "metadata": {},
   "outputs": [],
   "source": [
    "# Filter only full length movies\n",
    "full_length_title = basics['titleType'] == 'movie'\n",
    "basics = basics[full_length_title]\n",
    "basics"
   ]
  },
  {
   "cell_type": "code",
   "execution_count": null,
   "id": "494366c0-c2a7-40e2-90fa-29ccac03b1c5",
   "metadata": {},
   "outputs": [],
   "source": [
    "# convert startYear to float\n",
    "basics['startYear'].dtype"
   ]
  },
  {
   "cell_type": "code",
   "execution_count": null,
   "id": "02e69602-f54b-4081-a63a-d0db5cebfdb1",
   "metadata": {
    "tags": []
   },
   "outputs": [],
   "source": [
    "basics['startYear'] = basics['startYear'].astype(float)"
   ]
  },
  {
   "cell_type": "code",
   "execution_count": null,
   "id": "8ff043e6-55cc-4026-9a85-5f65c0055735",
   "metadata": {
    "tags": []
   },
   "outputs": [],
   "source": [
    "basics.info()"
   ]
  },
  {
   "cell_type": "code",
   "execution_count": null,
   "id": "24ef03cd-2ded-4014-af56-54146744ec97",
   "metadata": {
    "tags": []
   },
   "outputs": [],
   "source": [
    "# Filter to keep movies >= 2000 and <= 2022\n",
    "basics"
   ]
  },
  {
   "cell_type": "code",
   "execution_count": null,
   "id": "44160cff-6bf8-4eb4-823f-8b594bdc15a4",
   "metadata": {
    "tags": []
   },
   "outputs": [],
   "source": [
    "basics['startYear'].nunique()"
   ]
  },
  {
   "cell_type": "code",
   "execution_count": null,
   "id": "b72cc4f3-75bb-4b68-a4e0-b734ee391153",
   "metadata": {
    "tags": []
   },
   "outputs": [],
   "source": [
    "under_2000 = basics['startYear'] <= 2000"
   ]
  },
  {
   "cell_type": "code",
   "execution_count": null,
   "id": "ca74bee9-adca-4be2-b208-fbc2631a0053",
   "metadata": {
    "tags": []
   },
   "outputs": [],
   "source": [
    "under_2000.sum()"
   ]
  },
  {
   "cell_type": "code",
   "execution_count": null,
   "id": "41c6e9aa-1298-4841-b7a8-903c8e88af96",
   "metadata": {
    "tags": []
   },
   "outputs": [],
   "source": [
    "basics = basics[~under_2000]\n",
    "basics"
   ]
  },
  {
   "cell_type": "code",
   "execution_count": null,
   "id": "1df6e876-1a77-4359-b874-0f52a219b58d",
   "metadata": {
    "tags": []
   },
   "outputs": [],
   "source": [
    "over_2022 = basics['startYear'] >= 2022\n",
    "over_2022"
   ]
  },
  {
   "cell_type": "code",
   "execution_count": null,
   "id": "dc3633ca-2544-4d24-a43b-8540868c302e",
   "metadata": {
    "tags": []
   },
   "outputs": [],
   "source": [
    "over_2022.sum()"
   ]
  },
  {
   "cell_type": "code",
   "execution_count": null,
   "id": "c67e7660-7a32-4147-9f94-bc8b88d87051",
   "metadata": {
    "tags": []
   },
   "outputs": [],
   "source": [
    "basics = basics[~over_2022]\n",
    "basics"
   ]
  },
  {
   "cell_type": "code",
   "execution_count": null,
   "id": "d40f7c6d-18e1-4631-b2cf-6ed2a9ab2338",
   "metadata": {
    "tags": []
   },
   "outputs": [],
   "source": [
    "# Eliminate movies that include documentary\n",
    "doc_filter = basics['genres'].str.contains('Documentary')\n",
    "doc_filter"
   ]
  },
  {
   "cell_type": "code",
   "execution_count": null,
   "id": "b95d6079-2431-4150-8422-e3dabccee249",
   "metadata": {
    "tags": []
   },
   "outputs": [],
   "source": [
    "basics = basics[~ doc_filter]"
   ]
  },
  {
   "cell_type": "code",
   "execution_count": null,
   "id": "646f2dd1-a7e2-447b-ba59-b9ac0310344a",
   "metadata": {
    "tags": []
   },
   "outputs": [],
   "source": [
    "basics['genres'].unique()"
   ]
  },
  {
   "cell_type": "code",
   "execution_count": null,
   "id": "67fbe314-a696-4547-a63b-cdd3b3a6ce4c",
   "metadata": {
    "tags": []
   },
   "outputs": [],
   "source": [
    "# Display info\n",
    "basics.info()"
   ]
  },
  {
   "cell_type": "code",
   "execution_count": null,
   "id": "ff6abf93-6be4-4fdd-a540-b49da155419f",
   "metadata": {
    "tags": []
   },
   "outputs": [],
   "source": [
    "# display head\n",
    "basics.head()"
   ]
  },
  {
   "cell_type": "code",
   "execution_count": null,
   "id": "f4bcceb9-56b6-4989-ad55-de4331d78adc",
   "metadata": {},
   "outputs": [],
   "source": []
  }
 ],
 "metadata": {
  "kernelspec": {
   "display_name": "Python (dojo-env)",
   "language": "python",
   "name": "dojo-env"
  },
  "language_info": {
   "codemirror_mode": {
    "name": "ipython",
    "version": 3
   },
   "file_extension": ".py",
   "mimetype": "text/x-python",
   "name": "python",
   "nbconvert_exporter": "python",
   "pygments_lexer": "ipython3",
   "version": "3.10.10"
  },
  "widgets": {
   "application/vnd.jupyter.widget-state+json": {
    "state": {},
    "version_major": 2,
    "version_minor": 0
   }
  }
 },
 "nbformat": 4,
 "nbformat_minor": 5
}
